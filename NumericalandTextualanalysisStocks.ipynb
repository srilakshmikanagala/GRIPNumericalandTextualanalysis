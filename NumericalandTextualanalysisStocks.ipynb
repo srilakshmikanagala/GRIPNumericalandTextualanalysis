{
  "nbformat": 4,
  "nbformat_minor": 0,
  "metadata": {
    "colab": {
      "name": "NumericalandTextualanalysisStocks.ipynb",
      "provenance": [],
      "collapsed_sections": [],
      "mount_file_id": "1kk6cdtNo1lKLfGhrPCiCXyY2Mhi5oIk4",
      "authorship_tag": "ABX9TyNGa4FMMaTLdLywQbHaLFsz"
    },
    "kernelspec": {
      "name": "python3",
      "display_name": "Python 3"
    }
  },
  "cells": [
    {
      "cell_type": "code",
      "metadata": {
        "id": "NdwQnFtVTX2F",
        "outputId": "d9869b22-9064-4bd2-f1fc-8d42889cae73",
        "colab": {
          "base_uri": "https://localhost:8080/",
          "height": 187
        }
      },
      "source": [
        "import numpy as np\n",
        "import pandas as pd\n",
        "import matplotlib.pyplot as plt\n",
        "from sklearn.model_selection import train_test_split\n",
        "from sklearn.ensemble import RandomForestClassifier\n",
        "from sklearn.linear_model import LogisticRegression\n",
        "from sklearn.linear_model import LinearRegression\n",
        "from sklearn.svm import SVC\n",
        "from sklearn.tree import DecisionTreeClassifier\n",
        "from sklearn.discriminant_analysis import LinearDiscriminantAnalysis\n",
        "from sklearn.metrics import accuracy_score,confusion_matrix,classification_report\n",
        "from textblob import TextBlob\n",
        "from sklearn.feature_extraction.text import CountVectorizer\n",
        "import nltk\n",
        "nltk.download('punkt')\n",
        "nltk.download('averaged_perceptron_tagger')\n",
        "nltk.download('brown')\n",
        "nltk.download('vader_lexicon')\n",
        "from nltk.sentiment.vader import SentimentIntensityAnalyzer\n",
        "sid = SentimentIntensityAnalyzer()\n",
        "import re\n",
        "import seaborn as sns"
      ],
      "execution_count": null,
      "outputs": [
        {
          "output_type": "stream",
          "text": [
            "[nltk_data] Downloading package punkt to /root/nltk_data...\n",
            "[nltk_data]   Package punkt is already up-to-date!\n",
            "[nltk_data] Downloading package averaged_perceptron_tagger to\n",
            "[nltk_data]     /root/nltk_data...\n",
            "[nltk_data]   Package averaged_perceptron_tagger is already up-to-\n",
            "[nltk_data]       date!\n",
            "[nltk_data] Downloading package brown to /root/nltk_data...\n",
            "[nltk_data]   Package brown is already up-to-date!\n",
            "[nltk_data] Downloading package vader_lexicon to /root/nltk_data...\n",
            "[nltk_data]   Package vader_lexicon is already up-to-date!\n"
          ],
          "name": "stdout"
        }
      ]
    },
    {
      "cell_type": "code",
      "metadata": {
        "id": "UizQ8XHDgEQp",
        "outputId": "8fa5c7c9-6a00-4fa2-f0ba-ff0775b1652a",
        "colab": {
          "base_uri": "https://localhost:8080/",
          "height": 241
        }
      },
      "source": [
        "!pip install pyramid-arima"
      ],
      "execution_count": null,
      "outputs": [
        {
          "output_type": "stream",
          "text": [
            "Requirement already satisfied: pyramid-arima in /usr/local/lib/python3.6/dist-packages (0.9.0)\n",
            "Requirement already satisfied: scikit-learn>=0.17 in /usr/local/lib/python3.6/dist-packages (from pyramid-arima) (0.22.2.post1)\n",
            "Requirement already satisfied: Cython>=0.23 in /usr/local/lib/python3.6/dist-packages (from pyramid-arima) (0.29.21)\n",
            "Requirement already satisfied: statsmodels>=0.9.0 in /usr/local/lib/python3.6/dist-packages (from pyramid-arima) (0.10.2)\n",
            "Requirement already satisfied: pandas>=0.19 in /usr/local/lib/python3.6/dist-packages (from pyramid-arima) (1.1.2)\n",
            "Requirement already satisfied: scipy>=0.9 in /usr/local/lib/python3.6/dist-packages (from pyramid-arima) (1.4.1)\n",
            "Requirement already satisfied: numpy>=1.10 in /usr/local/lib/python3.6/dist-packages (from pyramid-arima) (1.18.5)\n",
            "Requirement already satisfied: joblib>=0.11 in /usr/local/lib/python3.6/dist-packages (from scikit-learn>=0.17->pyramid-arima) (0.16.0)\n",
            "Requirement already satisfied: patsy>=0.4.0 in /usr/local/lib/python3.6/dist-packages (from statsmodels>=0.9.0->pyramid-arima) (0.5.1)\n",
            "Requirement already satisfied: pytz>=2017.2 in /usr/local/lib/python3.6/dist-packages (from pandas>=0.19->pyramid-arima) (2018.9)\n",
            "Requirement already satisfied: python-dateutil>=2.7.3 in /usr/local/lib/python3.6/dist-packages (from pandas>=0.19->pyramid-arima) (2.8.1)\n",
            "Requirement already satisfied: six in /usr/local/lib/python3.6/dist-packages (from patsy>=0.4.0->statsmodels>=0.9.0->pyramid-arima) (1.15.0)\n"
          ],
          "name": "stdout"
        }
      ]
    },
    {
      "cell_type": "code",
      "metadata": {
        "id": "UMplUfb5hmcL"
      },
      "source": [
        "from pyramid.arima import auto_arima "
      ],
      "execution_count": null,
      "outputs": []
    },
    {
      "cell_type": "code",
      "metadata": {
        "id": "NpuqA9NGhqfd",
        "outputId": "81f5ee7e-e140-41ca-9aed-d41e314c792e",
        "colab": {
          "base_uri": "https://localhost:8080/",
          "height": 419
        }
      },
      "source": [
        "#forecasting of the apple shares\n",
        "apple=pd.read_csv('/content/drive/My Drive/GRIPfoundation/Stockmarket/appleshare.csv')\n",
        "apple"
      ],
      "execution_count": null,
      "outputs": [
        {
          "output_type": "execute_result",
          "data": {
            "text/html": [
              "<div>\n",
              "<style scoped>\n",
              "    .dataframe tbody tr th:only-of-type {\n",
              "        vertical-align: middle;\n",
              "    }\n",
              "\n",
              "    .dataframe tbody tr th {\n",
              "        vertical-align: top;\n",
              "    }\n",
              "\n",
              "    .dataframe thead th {\n",
              "        text-align: right;\n",
              "    }\n",
              "</style>\n",
              "<table border=\"1\" class=\"dataframe\">\n",
              "  <thead>\n",
              "    <tr style=\"text-align: right;\">\n",
              "      <th></th>\n",
              "      <th>Date</th>\n",
              "      <th>Open</th>\n",
              "      <th>High</th>\n",
              "      <th>Low</th>\n",
              "      <th>Close</th>\n",
              "      <th>Adj Close</th>\n",
              "      <th>Volume</th>\n",
              "    </tr>\n",
              "  </thead>\n",
              "  <tbody>\n",
              "    <tr>\n",
              "      <th>0</th>\n",
              "      <td>8/8/2008</td>\n",
              "      <td>42.790001</td>\n",
              "      <td>44.169998</td>\n",
              "      <td>41.450001</td>\n",
              "      <td>44.099998</td>\n",
              "      <td>42.299274</td>\n",
              "      <td>3248400</td>\n",
              "    </tr>\n",
              "    <tr>\n",
              "      <th>1</th>\n",
              "      <td>8/11/2008</td>\n",
              "      <td>44.540001</td>\n",
              "      <td>44.570000</td>\n",
              "      <td>43.160000</td>\n",
              "      <td>43.720001</td>\n",
              "      <td>41.934803</td>\n",
              "      <td>2258300</td>\n",
              "    </tr>\n",
              "    <tr>\n",
              "      <th>2</th>\n",
              "      <td>8/12/2008</td>\n",
              "      <td>43.500000</td>\n",
              "      <td>44.070000</td>\n",
              "      <td>43.049999</td>\n",
              "      <td>43.759998</td>\n",
              "      <td>41.973156</td>\n",
              "      <td>1641400</td>\n",
              "    </tr>\n",
              "    <tr>\n",
              "      <th>3</th>\n",
              "      <td>8/13/2008</td>\n",
              "      <td>43.419998</td>\n",
              "      <td>43.650002</td>\n",
              "      <td>42.209999</td>\n",
              "      <td>43.450001</td>\n",
              "      <td>41.675819</td>\n",
              "      <td>1785400</td>\n",
              "    </tr>\n",
              "    <tr>\n",
              "      <th>4</th>\n",
              "      <td>8/14/2008</td>\n",
              "      <td>43.330002</td>\n",
              "      <td>45.000000</td>\n",
              "      <td>43.009998</td>\n",
              "      <td>44.240002</td>\n",
              "      <td>42.433556</td>\n",
              "      <td>1166600</td>\n",
              "    </tr>\n",
              "    <tr>\n",
              "      <th>...</th>\n",
              "      <td>...</td>\n",
              "      <td>...</td>\n",
              "      <td>...</td>\n",
              "      <td>...</td>\n",
              "      <td>...</td>\n",
              "      <td>...</td>\n",
              "      <td>...</td>\n",
              "    </tr>\n",
              "    <tr>\n",
              "      <th>1984</th>\n",
              "      <td>6/27/2016</td>\n",
              "      <td>153.740005</td>\n",
              "      <td>155.699997</td>\n",
              "      <td>152.199997</td>\n",
              "      <td>153.779999</td>\n",
              "      <td>151.642273</td>\n",
              "      <td>2242500</td>\n",
              "    </tr>\n",
              "    <tr>\n",
              "      <th>1985</th>\n",
              "      <td>6/28/2016</td>\n",
              "      <td>154.869995</td>\n",
              "      <td>157.160004</td>\n",
              "      <td>154.279999</td>\n",
              "      <td>156.979996</td>\n",
              "      <td>154.797791</td>\n",
              "      <td>1533700</td>\n",
              "    </tr>\n",
              "    <tr>\n",
              "      <th>1986</th>\n",
              "      <td>6/29/2016</td>\n",
              "      <td>158.029999</td>\n",
              "      <td>161.779999</td>\n",
              "      <td>158.029999</td>\n",
              "      <td>161.009995</td>\n",
              "      <td>158.771759</td>\n",
              "      <td>1560000</td>\n",
              "    </tr>\n",
              "    <tr>\n",
              "      <th>1987</th>\n",
              "      <td>6/30/2016</td>\n",
              "      <td>161.020004</td>\n",
              "      <td>161.699997</td>\n",
              "      <td>159.500000</td>\n",
              "      <td>161.630005</td>\n",
              "      <td>159.383118</td>\n",
              "      <td>791600</td>\n",
              "    </tr>\n",
              "    <tr>\n",
              "      <th>1988</th>\n",
              "      <td>7/1/2016</td>\n",
              "      <td>162.160004</td>\n",
              "      <td>164.699997</td>\n",
              "      <td>161.779999</td>\n",
              "      <td>164.330002</td>\n",
              "      <td>162.045578</td>\n",
              "      <td>876500</td>\n",
              "    </tr>\n",
              "  </tbody>\n",
              "</table>\n",
              "<p>1989 rows × 7 columns</p>\n",
              "</div>"
            ],
            "text/plain": [
              "           Date        Open        High  ...       Close   Adj Close   Volume\n",
              "0      8/8/2008   42.790001   44.169998  ...   44.099998   42.299274  3248400\n",
              "1     8/11/2008   44.540001   44.570000  ...   43.720001   41.934803  2258300\n",
              "2     8/12/2008   43.500000   44.070000  ...   43.759998   41.973156  1641400\n",
              "3     8/13/2008   43.419998   43.650002  ...   43.450001   41.675819  1785400\n",
              "4     8/14/2008   43.330002   45.000000  ...   44.240002   42.433556  1166600\n",
              "...         ...         ...         ...  ...         ...         ...      ...\n",
              "1984  6/27/2016  153.740005  155.699997  ...  153.779999  151.642273  2242500\n",
              "1985  6/28/2016  154.869995  157.160004  ...  156.979996  154.797791  1533700\n",
              "1986  6/29/2016  158.029999  161.779999  ...  161.009995  158.771759  1560000\n",
              "1987  6/30/2016  161.020004  161.699997  ...  161.630005  159.383118   791600\n",
              "1988   7/1/2016  162.160004  164.699997  ...  164.330002  162.045578   876500\n",
              "\n",
              "[1989 rows x 7 columns]"
            ]
          },
          "metadata": {
            "tags": []
          },
          "execution_count": 8
        }
      ]
    },
    {
      "cell_type": "code",
      "metadata": {
        "id": "uY_oA0v1qwot",
        "outputId": "daf26223-8328-4883-d68a-500d0c9df182",
        "colab": {
          "base_uri": "https://localhost:8080/",
          "height": 282
        }
      },
      "source": [
        "#let us check whether the model can be used for time series analysis\n",
        "apple_testing=pd.read_csv('/content/drive/My Drive/GRIPfoundation/Stockmarket/appleshare.csv',index_col='Date',parse_dates=True)\n",
        "plt.plot(apple_testing['Close'])\n",
        "#after the plotting we understand that the plot of close proces has a trend hence arima analysis can be applied"
      ],
      "execution_count": null,
      "outputs": [
        {
          "output_type": "execute_result",
          "data": {
            "text/plain": [
              "[<matplotlib.lines.Line2D at 0x7f3982880470>]"
            ]
          },
          "metadata": {
            "tags": []
          },
          "execution_count": 14
        },
        {
          "output_type": "display_data",
          "data": {
            "image/png": "[encoded data removed]",
            "text/plain": [
              "<Figure size 432x288 with 1 Axes>"
            ]
          },
          "metadata": {
            "tags": [],
            "needs_background": "light"
          }
        }
      ]
    },
    {
      "cell_type": "code",
      "metadata": {
        "id": "Ua8uVadFpHn-",
        "outputId": "9e872854-7567-4bb0-96da-08d2dbf22a09",
        "colab": {
          "base_uri": "https://localhost:8080/",
          "height": 419
        }
      },
      "source": [
        "apple_stock=apple[['Close']]\n",
        "apple_stock"
      ],
      "execution_count": null,
      "outputs": [
        {
          "output_type": "execute_result",
          "data": {
            "text/html": [
              "<div>\n",
              "<style scoped>\n",
              "    .dataframe tbody tr th:only-of-type {\n",
              "        vertical-align: middle;\n",
              "    }\n",
              "\n",
              "    .dataframe tbody tr th {\n",
              "        vertical-align: top;\n",
              "    }\n",
              "\n",
              "    .dataframe thead th {\n",
              "        text-align: right;\n",
              "    }\n",
              "</style>\n",
              "<table border=\"1\" class=\"dataframe\">\n",
              "  <thead>\n",
              "    <tr style=\"text-align: right;\">\n",
              "      <th></th>\n",
              "      <th>Close</th>\n",
              "    </tr>\n",
              "  </thead>\n",
              "  <tbody>\n",
              "    <tr>\n",
              "      <th>0</th>\n",
              "      <td>44.099998</td>\n",
              "    </tr>\n",
              "    <tr>\n",
              "      <th>1</th>\n",
              "      <td>43.720001</td>\n",
              "    </tr>\n",
              "    <tr>\n",
              "      <th>2</th>\n",
              "      <td>43.759998</td>\n",
              "    </tr>\n",
              "    <tr>\n",
              "      <th>3</th>\n",
              "      <td>43.450001</td>\n",
              "    </tr>\n",
              "    <tr>\n",
              "      <th>4</th>\n",
              "      <td>44.240002</td>\n",
              "    </tr>\n",
              "    <tr>\n",
              "      <th>...</th>\n",
              "      <td>...</td>\n",
              "    </tr>\n",
              "    <tr>\n",
              "      <th>1984</th>\n",
              "      <td>153.779999</td>\n",
              "    </tr>\n",
              "    <tr>\n",
              "      <th>1985</th>\n",
              "      <td>156.979996</td>\n",
              "    </tr>\n",
              "    <tr>\n",
              "      <th>1986</th>\n",
              "      <td>161.009995</td>\n",
              "    </tr>\n",
              "    <tr>\n",
              "      <th>1987</th>\n",
              "      <td>161.630005</td>\n",
              "    </tr>\n",
              "    <tr>\n",
              "      <th>1988</th>\n",
              "      <td>164.330002</td>\n",
              "    </tr>\n",
              "  </tbody>\n",
              "</table>\n",
              "<p>1989 rows × 1 columns</p>\n",
              "</div>"
            ],
            "text/plain": [
              "           Close\n",
              "0      44.099998\n",
              "1      43.720001\n",
              "2      43.759998\n",
              "3      43.450001\n",
              "4      44.240002\n",
              "...          ...\n",
              "1984  153.779999\n",
              "1985  156.979996\n",
              "1986  161.009995\n",
              "1987  161.630005\n",
              "1988  164.330002\n",
              "\n",
              "[1989 rows x 1 columns]"
            ]
          },
          "metadata": {
            "tags": []
          },
          "execution_count": 15
        }
      ]
    },
    {
      "cell_type": "code",
      "metadata": {
        "id": "DoANkGAfpPeV"
      },
      "source": [
        "#now divide the apple_stock to training and testing set\n",
        "#train the arima model using the data and do forecast or prediction on the test data and then validate it by using rms score\n",
        "train_apple_stock=apple_stock.iloc[:1100]\n",
        "test_apple_stock=apple_stock.iloc[1100:]  "
      ],
      "execution_count": null,
      "outputs": []
    },
    {
      "cell_type": "code",
      "metadata": {
        "id": "yZ3ISXxlqdQU",
        "outputId": "2f41e9ec-616d-436f-f410-f5093d3b5c5e",
        "colab": {
          "base_uri": "https://localhost:8080/",
          "height": 419
        }
      },
      "source": [
        "train_apple_stock"
      ],
      "execution_count": null,
      "outputs": [
        {
          "output_type": "execute_result",
          "data": {
            "text/html": [
              "<div>\n",
              "<style scoped>\n",
              "    .dataframe tbody tr th:only-of-type {\n",
              "        vertical-align: middle;\n",
              "    }\n",
              "\n",
              "    .dataframe tbody tr th {\n",
              "        vertical-align: top;\n",
              "    }\n",
              "\n",
              "    .dataframe thead th {\n",
              "        text-align: right;\n",
              "    }\n",
              "</style>\n",
              "<table border=\"1\" class=\"dataframe\">\n",
              "  <thead>\n",
              "    <tr style=\"text-align: right;\">\n",
              "      <th></th>\n",
              "      <th>Close</th>\n",
              "    </tr>\n",
              "  </thead>\n",
              "  <tbody>\n",
              "    <tr>\n",
              "      <th>0</th>\n",
              "      <td>44.099998</td>\n",
              "    </tr>\n",
              "    <tr>\n",
              "      <th>1</th>\n",
              "      <td>43.720001</td>\n",
              "    </tr>\n",
              "    <tr>\n",
              "      <th>2</th>\n",
              "      <td>43.759998</td>\n",
              "    </tr>\n",
              "    <tr>\n",
              "      <th>3</th>\n",
              "      <td>43.450001</td>\n",
              "    </tr>\n",
              "    <tr>\n",
              "      <th>4</th>\n",
              "      <td>44.240002</td>\n",
              "    </tr>\n",
              "    <tr>\n",
              "      <th>...</th>\n",
              "      <td>...</td>\n",
              "    </tr>\n",
              "    <tr>\n",
              "      <th>1095</th>\n",
              "      <td>73.029999</td>\n",
              "    </tr>\n",
              "    <tr>\n",
              "      <th>1096</th>\n",
              "      <td>72.589996</td>\n",
              "    </tr>\n",
              "    <tr>\n",
              "      <th>1097</th>\n",
              "      <td>73.050003</td>\n",
              "    </tr>\n",
              "    <tr>\n",
              "      <th>1098</th>\n",
              "      <td>72.900002</td>\n",
              "    </tr>\n",
              "    <tr>\n",
              "      <th>1099</th>\n",
              "      <td>72.029999</td>\n",
              "    </tr>\n",
              "  </tbody>\n",
              "</table>\n",
              "<p>1100 rows × 1 columns</p>\n",
              "</div>"
            ],
            "text/plain": [
              "          Close\n",
              "0     44.099998\n",
              "1     43.720001\n",
              "2     43.759998\n",
              "3     43.450001\n",
              "4     44.240002\n",
              "...         ...\n",
              "1095  73.029999\n",
              "1096  72.589996\n",
              "1097  73.050003\n",
              "1098  72.900002\n",
              "1099  72.029999\n",
              "\n",
              "[1100 rows x 1 columns]"
            ]
          },
          "metadata": {
            "tags": []
          },
          "execution_count": 17
        }
      ]
    },
    {
      "cell_type": "code",
      "metadata": {
        "id": "1CvCP4p7qfgR",
        "outputId": "696eb77c-6317-449f-df00-16991d565dee",
        "colab": {
          "base_uri": "https://localhost:8080/",
          "height": 419
        }
      },
      "source": [
        "test_apple_stock"
      ],
      "execution_count": null,
      "outputs": [
        {
          "output_type": "execute_result",
          "data": {
            "text/html": [
              "<div>\n",
              "<style scoped>\n",
              "    .dataframe tbody tr th:only-of-type {\n",
              "        vertical-align: middle;\n",
              "    }\n",
              "\n",
              "    .dataframe tbody tr th {\n",
              "        vertical-align: top;\n",
              "    }\n",
              "\n",
              "    .dataframe thead th {\n",
              "        text-align: right;\n",
              "    }\n",
              "</style>\n",
              "<table border=\"1\" class=\"dataframe\">\n",
              "  <thead>\n",
              "    <tr style=\"text-align: right;\">\n",
              "      <th></th>\n",
              "      <th>Close</th>\n",
              "    </tr>\n",
              "  </thead>\n",
              "  <tbody>\n",
              "    <tr>\n",
              "      <th>1100</th>\n",
              "      <td>71.680000</td>\n",
              "    </tr>\n",
              "    <tr>\n",
              "      <th>1101</th>\n",
              "      <td>70.269997</td>\n",
              "    </tr>\n",
              "    <tr>\n",
              "      <th>1102</th>\n",
              "      <td>70.779999</td>\n",
              "    </tr>\n",
              "    <tr>\n",
              "      <th>1103</th>\n",
              "      <td>70.599998</td>\n",
              "    </tr>\n",
              "    <tr>\n",
              "      <th>1104</th>\n",
              "      <td>71.339996</td>\n",
              "    </tr>\n",
              "    <tr>\n",
              "      <th>...</th>\n",
              "      <td>...</td>\n",
              "    </tr>\n",
              "    <tr>\n",
              "      <th>1984</th>\n",
              "      <td>153.779999</td>\n",
              "    </tr>\n",
              "    <tr>\n",
              "      <th>1985</th>\n",
              "      <td>156.979996</td>\n",
              "    </tr>\n",
              "    <tr>\n",
              "      <th>1986</th>\n",
              "      <td>161.009995</td>\n",
              "    </tr>\n",
              "    <tr>\n",
              "      <th>1987</th>\n",
              "      <td>161.630005</td>\n",
              "    </tr>\n",
              "    <tr>\n",
              "      <th>1988</th>\n",
              "      <td>164.330002</td>\n",
              "    </tr>\n",
              "  </tbody>\n",
              "</table>\n",
              "<p>889 rows × 1 columns</p>\n",
              "</div>"
            ],
            "text/plain": [
              "           Close\n",
              "1100   71.680000\n",
              "1101   70.269997\n",
              "1102   70.779999\n",
              "1103   70.599998\n",
              "1104   71.339996\n",
              "...          ...\n",
              "1984  153.779999\n",
              "1985  156.979996\n",
              "1986  161.009995\n",
              "1987  161.630005\n",
              "1988  164.330002\n",
              "\n",
              "[889 rows x 1 columns]"
            ]
          },
          "metadata": {
            "tags": []
          },
          "execution_count": 18
        }
      ]
    },
    {
      "cell_type": "code",
      "metadata": {
        "id": "aJX7rRywqhn0",
        "outputId": "6dd01674-0d62-4627-db77-884e9056f314",
        "colab": {
          "base_uri": "https://localhost:8080/",
          "height": 306
        }
      },
      "source": [
        "model_forecast = auto_arima(train_apple_stock, start_p = 1, start_q = 1, \n",
        "                          max_p = 3, max_q = 3, m = 12, \n",
        "                          start_P = 0, seasonal = True, \n",
        "                          d = None, D = 1, trace = True, \n",
        "                          error_action ='ignore',   \n",
        "                          suppress_warnings = True,  \n",
        "                          stepwise = True)     "
      ],
      "execution_count": null,
      "outputs": [
        {
          "output_type": "stream",
          "text": [
            "Fit ARIMA: order=(1, 0, 1) seasonal_order=(0, 1, 1, 12); AIC=3419.453, BIC=3444.414, Fit time=13.012 seconds\n",
            "Fit ARIMA: order=(0, 0, 0) seasonal_order=(0, 1, 0, 12); AIC=5987.742, BIC=5997.726, Fit time=0.112 seconds\n",
            "Fit ARIMA: order=(1, 0, 0) seasonal_order=(1, 1, 0, 12); AIC=3777.032, BIC=3797.000, Fit time=3.490 seconds\n",
            "Fit ARIMA: order=(0, 0, 1) seasonal_order=(0, 1, 1, 12); AIC=5033.844, BIC=5053.812, Fit time=3.088 seconds\n",
            "Fit ARIMA: order=(1, 0, 1) seasonal_order=(1, 1, 1, 12); AIC=3421.321, BIC=3451.274, Fit time=13.223 seconds\n",
            "Fit ARIMA: order=(1, 0, 1) seasonal_order=(0, 1, 0, 12); AIC=4103.090, BIC=4123.058, Fit time=0.861 seconds\n",
            "Fit ARIMA: order=(1, 0, 1) seasonal_order=(0, 1, 2, 12); AIC=3421.223, BIC=3451.175, Fit time=34.107 seconds\n",
            "Fit ARIMA: order=(1, 0, 1) seasonal_order=(1, 1, 2, 12); AIC=3423.160, BIC=3458.105, Fit time=25.658 seconds\n",
            "Fit ARIMA: order=(2, 0, 1) seasonal_order=(0, 1, 1, 12); AIC=3422.606, BIC=3452.559, Fit time=14.134 seconds\n",
            "Fit ARIMA: order=(1, 0, 0) seasonal_order=(0, 1, 1, 12); AIC=3418.588, BIC=3438.556, Fit time=11.393 seconds\n",
            "Fit ARIMA: order=(1, 0, 0) seasonal_order=(1, 1, 1, 12); AIC=3420.550, BIC=3445.511, Fit time=7.119 seconds\n",
            "Fit ARIMA: order=(1, 0, 0) seasonal_order=(0, 1, 0, 12); AIC=4101.101, BIC=4116.077, Fit time=0.369 seconds\n",
            "Fit ARIMA: order=(1, 0, 0) seasonal_order=(0, 1, 2, 12); AIC=3420.489, BIC=3445.449, Fit time=18.848 seconds\n",
            "Fit ARIMA: order=(1, 0, 0) seasonal_order=(1, 1, 2, 12); AIC=3422.226, BIC=3452.179, Fit time=27.357 seconds\n",
            "Fit ARIMA: order=(0, 0, 0) seasonal_order=(0, 1, 1, 12); AIC=5989.523, BIC=6004.499, Fit time=1.412 seconds\n",
            "Fit ARIMA: order=(2, 0, 0) seasonal_order=(0, 1, 1, 12); AIC=3419.466, BIC=3444.426, Fit time=6.886 seconds\n",
            "Total fit time: 181.104 seconds\n"
          ],
          "name": "stdout"
        }
      ]
    },
    {
      "cell_type": "code",
      "metadata": {
        "id": "ilH01SHIt8N0",
        "outputId": "4067bf79-0a28-4740-f7af-4e0c154c8ed7",
        "colab": {
          "base_uri": "https://localhost:8080/",
          "height": 444
        }
      },
      "source": [
        "model_forecast.summary()\n"
      ],
      "execution_count": null,
      "outputs": [
        {
          "output_type": "execute_result",
          "data": {
            "text/html": [
              "<table class=\"simpletable\">\n",
              "<caption>Statespace Model Results</caption>\n",
              "<tr>\n",
              "  <th>Dep. Variable:</th>                  <td>y</td>               <th>  No. Observations:  </th>   <td>1100</td>   \n",
              "</tr>\n",
              "<tr>\n",
              "  <th>Model:</th>           <td>SARIMAX(1, 0, 0)x(0, 1, 1, 12)</td> <th>  Log Likelihood     </th> <td>-1705.294</td>\n",
              "</tr>\n",
              "<tr>\n",
              "  <th>Date:</th>                   <td>Sat, 10 Oct 2020</td>        <th>  AIC                </th> <td>3418.588</td> \n",
              "</tr>\n",
              "<tr>\n",
              "  <th>Time:</th>                       <td>09:02:04</td>            <th>  BIC                </th> <td>3438.556</td> \n",
              "</tr>\n",
              "<tr>\n",
              "  <th>Sample:</th>                         <td>0</td>               <th>  HQIC               </th> <td>3426.146</td> \n",
              "</tr>\n",
              "<tr>\n",
              "  <th></th>                             <td> - 1100</td>            <th>                     </th>     <td> </td>    \n",
              "</tr>\n",
              "<tr>\n",
              "  <th>Covariance Type:</th>               <td>opg</td>              <th>                     </th>     <td> </td>    \n",
              "</tr>\n",
              "</table>\n",
              "<table class=\"simpletable\">\n",
              "<tr>\n",
              "      <td></td>         <th>coef</th>     <th>std err</th>      <th>z</th>      <th>P>|z|</th>  <th>[0.025</th>    <th>0.975]</th>  \n",
              "</tr>\n",
              "<tr>\n",
              "  <th>intercept</th> <td>    0.0049</td> <td>    0.003</td> <td>    1.745</td> <td> 0.081</td> <td>   -0.001</td> <td>    0.010</td>\n",
              "</tr>\n",
              "<tr>\n",
              "  <th>ar.L1</th>     <td>    0.9892</td> <td>    0.005</td> <td>  186.050</td> <td> 0.000</td> <td>    0.979</td> <td>    1.000</td>\n",
              "</tr>\n",
              "<tr>\n",
              "  <th>ma.S.L12</th>  <td>   -0.9994</td> <td>    0.460</td> <td>   -2.174</td> <td> 0.030</td> <td>   -1.901</td> <td>   -0.098</td>\n",
              "</tr>\n",
              "<tr>\n",
              "  <th>sigma2</th>    <td>    1.2816</td> <td>    0.577</td> <td>    2.220</td> <td> 0.026</td> <td>    0.150</td> <td>    2.413</td>\n",
              "</tr>\n",
              "</table>\n",
              "<table class=\"simpletable\">\n",
              "<tr>\n",
              "  <th>Ljung-Box (Q):</th>          <td>37.94</td> <th>  Jarque-Bera (JB):  </th> <td>36534.55</td>\n",
              "</tr>\n",
              "<tr>\n",
              "  <th>Prob(Q):</th>                <td>0.56</td>  <th>  Prob(JB):          </th>   <td>0.00</td>  \n",
              "</tr>\n",
              "<tr>\n",
              "  <th>Heteroskedasticity (H):</th> <td>1.99</td>  <th>  Skew:              </th>   <td>-1.19</td> \n",
              "</tr>\n",
              "<tr>\n",
              "  <th>Prob(H) (two-sided):</th>    <td>0.00</td>  <th>  Kurtosis:          </th>   <td>31.29</td> \n",
              "</tr>\n",
              "</table><br/><br/>Warnings:<br/>[1] Covariance matrix calculated using the outer product of gradients (complex-step)."
            ],
            "text/plain": [
              "<class 'statsmodels.iolib.summary.Summary'>\n",
              "\"\"\"\n",
              "                                 Statespace Model Results                                 \n",
              "==========================================================================================\n",
              "Dep. Variable:                                  y   No. Observations:                 1100\n",
              "Model:             SARIMAX(1, 0, 0)x(0, 1, 1, 12)   Log Likelihood               -1705.294\n",
              "Date:                            Sat, 10 Oct 2020   AIC                           3418.588\n",
              "Time:                                    09:02:04   BIC                           3438.556\n",
              "Sample:                                         0   HQIC                          3426.146\n",
              "                                           - 1100                                         \n",
              "Covariance Type:                              opg                                         \n",
              "==============================================================================\n",
              "                 coef    std err          z      P>|z|      [0.025      0.975]\n",
              "------------------------------------------------------------------------------\n",
              "intercept      0.0049      0.003      1.745      0.081      -0.001       0.010\n",
              "ar.L1          0.9892      0.005    186.050      0.000       0.979       1.000\n",
              "ma.S.L12      -0.9994      0.460     -2.174      0.030      -1.901      -0.098\n",
              "sigma2         1.2816      0.577      2.220      0.026       0.150       2.413\n",
              "===================================================================================\n",
              "Ljung-Box (Q):                       37.94   Jarque-Bera (JB):             36534.55\n",
              "Prob(Q):                              0.56   Prob(JB):                         0.00\n",
              "Heteroskedasticity (H):               1.99   Skew:                            -1.19\n",
              "Prob(H) (two-sided):                  0.00   Kurtosis:                        31.29\n",
              "===================================================================================\n",
              "\n",
              "Warnings:\n",
              "[1] Covariance matrix calculated using the outer product of gradients (complex-step).\n",
              "\"\"\""
            ]
          },
          "metadata": {
            "tags": []
          },
          "execution_count": 23
        }
      ]
    },
    {
      "cell_type": "code",
      "metadata": {
        "id": "qw6T5LA-u72n"
      },
      "source": [
        "#now use this model to do the forecast\n",
        "prediction=model_forecast.predict(n_periods=889)"
      ],
      "execution_count": null,
      "outputs": []
    },
    {
      "cell_type": "code",
      "metadata": {
        "id": "YcR9mpydwyTU",
        "outputId": "53c97ec6-810f-47f0-a4b8-61d7c41c1371",
        "colab": {
          "base_uri": "https://localhost:8080/",
          "height": 51
        }
      },
      "source": [
        "#check the mean square error for validating how accurate are the values obtained \n",
        "def rootmeansqr_meansqr(prediction,test_apple_stock):\n",
        "  sum=0\n",
        "  for i in range(0,len(test_apple_stock)):\n",
        "    sum+=(prediction[i]-test_apple_stock.values[i])**2\n",
        "  rmse=np.sqrt(sum/len(test_apple_stock))\n",
        "  mse=sum/len(test_apple_stock)\n",
        "  return rmse,mse\n",
        "rmse,mse=rootmeansqr_meansqr(prediction,test_apple_stock)\n",
        "print(\"root_mean_sqare error:\",rmse[0])\n",
        "print(\"mean squre error:\",mse[0])"
      ],
      "execution_count": null,
      "outputs": [
        {
          "output_type": "stream",
          "text": [
            "root_mean_sqare error: 44.215874165722354\n",
            "mean squre error: 1955.0435282389938\n"
          ],
          "name": "stdout"
        }
      ]
    },
    {
      "cell_type": "code",
      "metadata": {
        "id": "yzd9zOZ247hh"
      },
      "source": [
        "#converting prediction array to a pandas data frame\n",
        "prediction_dataframe=pd.DataFrame(prediction,columns=['Forecast'],index=test_apple_stock.index)\n"
      ],
      "execution_count": null,
      "outputs": []
    },
    {
      "cell_type": "code",
      "metadata": {
        "id": "1wOEnHGlym_V",
        "outputId": "ed11cd79-0c60-4aab-b0d2-1abfa55f40fb",
        "colab": {
          "base_uri": "https://localhost:8080/",
          "height": 281
        }
      },
      "source": [
        "#now let us plot the training,testing and prediction values over the graph\n",
        "plt.plot(train_apple_stock,label='Training data')\n",
        "plt.plot(test_apple_stock,label='Testing data')\n",
        "plt.plot(prediction_dataframe,label='Predicted data')\n",
        "plt.legend()\n",
        "plt.title(\"Stock prices for Apple stocks\")\n",
        "plt.show()"
      ],
      "execution_count": null,
      "outputs": [
        {
          "output_type": "display_data",
          "data": {
            "image/png": "[encoded data removed]",
            "text/plain": [
              "<Figure size 432x288 with 1 Axes>"
            ]
          },
          "metadata": {
            "tags": [],
            "needs_background": "light"
          }
        }
      ]
    },
    {
      "cell_type": "code",
      "metadata": {
        "id": "PhqiXeHR2mgw",
        "outputId": "67ecdf1a-4d80-467f-ff76-878ca31d82c2",
        "colab": {
          "base_uri": "https://localhost:8080/",
          "height": 683
        }
      },
      "source": [
        "#now let us analyse the top headlines\n",
        "headlines=pd.read_csv('/content/drive/My Drive/GRIPfoundation/Stockmarket/Top_headlines.csv')\n",
        "headlines.head()"
      ],
      "execution_count": null,
      "outputs": [
        {
          "output_type": "execute_result",
          "data": {
            "text/html": [
              "<div>\n",
              "<style scoped>\n",
              "    .dataframe tbody tr th:only-of-type {\n",
              "        vertical-align: middle;\n",
              "    }\n",
              "\n",
              "    .dataframe tbody tr th {\n",
              "        vertical-align: top;\n",
              "    }\n",
              "\n",
              "    .dataframe thead th {\n",
              "        text-align: right;\n",
              "    }\n",
              "</style>\n",
              "<table border=\"1\" class=\"dataframe\">\n",
              "  <thead>\n",
              "    <tr style=\"text-align: right;\">\n",
              "      <th></th>\n",
              "      <th>Date</th>\n",
              "      <th>Label</th>\n",
              "      <th>Top1</th>\n",
              "      <th>Top2</th>\n",
              "      <th>Top3</th>\n",
              "      <th>Top4</th>\n",
              "      <th>Top5</th>\n",
              "      <th>Top6</th>\n",
              "      <th>Top7</th>\n",
              "      <th>Top8</th>\n",
              "      <th>Top9</th>\n",
              "      <th>Top10</th>\n",
              "      <th>Top11</th>\n",
              "      <th>Top12</th>\n",
              "      <th>Top13</th>\n",
              "      <th>Top14</th>\n",
              "      <th>Top15</th>\n",
              "      <th>Top16</th>\n",
              "      <th>Top17</th>\n",
              "      <th>Top18</th>\n",
              "      <th>Top19</th>\n",
              "      <th>Top20</th>\n",
              "      <th>Top21</th>\n",
              "      <th>Top22</th>\n",
              "      <th>Top23</th>\n",
              "      <th>Top24</th>\n",
              "      <th>Top25</th>\n",
              "    </tr>\n",
              "  </thead>\n",
              "  <tbody>\n",
              "    <tr>\n",
              "      <th>0</th>\n",
              "      <td>2008-08-08</td>\n",
              "      <td>0</td>\n",
              "      <td>b\"Georgia 'downs two Russian warplanes' as cou...</td>\n",
              "      <td>b'BREAKING: Musharraf to be impeached.'</td>\n",
              "      <td>b'Russia Today: Columns of troops roll into So...</td>\n",
              "      <td>b'Russian tanks are moving towards the capital...</td>\n",
              "      <td>b\"Afghan children raped with 'impunity,' U.N. ...</td>\n",
              "      <td>b'150 Russian tanks have entered South Ossetia...</td>\n",
              "      <td>b\"Breaking: Georgia invades South Ossetia, Rus...</td>\n",
              "      <td>b\"The 'enemy combatent' trials are nothing but...</td>\n",
              "      <td>b'Georgian troops retreat from S. Osettain cap...</td>\n",
              "      <td>b'Did the U.S. Prep Georgia for War with Russia?'</td>\n",
              "      <td>b'Rice Gives Green Light for Israel to Attack ...</td>\n",
              "      <td>b'Announcing:Class Action Lawsuit on Behalf of...</td>\n",
              "      <td>b\"So---Russia and Georgia are at war and the N...</td>\n",
              "      <td>b\"China tells Bush to stay out of other countr...</td>\n",
              "      <td>b'Did World War III start today?'</td>\n",
              "      <td>b'Georgia Invades South Ossetia - if Russia ge...</td>\n",
              "      <td>b'Al-Qaeda Faces Islamist Backlash'</td>\n",
              "      <td>b'Condoleezza Rice: \"The US would not act to p...</td>\n",
              "      <td>b'This is a busy day:  The European Union has ...</td>\n",
              "      <td>b\"Georgia will withdraw 1,000 soldiers from Ir...</td>\n",
              "      <td>b'Why the Pentagon Thinks Attacking Iran is a ...</td>\n",
              "      <td>b'Caucasus in crisis: Georgia invades South Os...</td>\n",
              "      <td>b'Indian shoe manufactory  - And again in a se...</td>\n",
              "      <td>b'Visitors Suffering from Mental Illnesses Ban...</td>\n",
              "      <td>b\"No Help for Mexico's Kidnapping Surge\"</td>\n",
              "    </tr>\n",
              "    <tr>\n",
              "      <th>1</th>\n",
              "      <td>2008-08-11</td>\n",
              "      <td>1</td>\n",
              "      <td>b'Why wont America and Nato help us? If they w...</td>\n",
              "      <td>b'Bush puts foot down on Georgian conflict'</td>\n",
              "      <td>b\"Jewish Georgian minister: Thanks to Israeli ...</td>\n",
              "      <td>b'Georgian army flees in disarray as Russians ...</td>\n",
              "      <td>b\"Olympic opening ceremony fireworks 'faked'\"</td>\n",
              "      <td>b'What were the Mossad with fraudulent New Zea...</td>\n",
              "      <td>b'Russia angered by Israeli military sale to G...</td>\n",
              "      <td>b'An American citizen living in S.Ossetia blam...</td>\n",
              "      <td>b'Welcome To World War IV! Now In High Definit...</td>\n",
              "      <td>b\"Georgia's move, a mistake of monumental prop...</td>\n",
              "      <td>b'Russia presses deeper into Georgia; U.S. say...</td>\n",
              "      <td>b'Abhinav Bindra wins first ever Individual Ol...</td>\n",
              "      <td>b' U.S. ship heads for Arctic to define territ...</td>\n",
              "      <td>b'Drivers in a Jerusalem taxi station threaten...</td>\n",
              "      <td>b'The French Team is Stunned by Phelps and the...</td>\n",
              "      <td>b'Israel and the US behind the Georgian aggres...</td>\n",
              "      <td>b'\"Do not believe TV, neither Russian nor Geor...</td>\n",
              "      <td>b'Riots are still going on in Montreal (Canada...</td>\n",
              "      <td>b'China to overtake US as largest manufacturer'</td>\n",
              "      <td>b'War in South Ossetia [PICS]'</td>\n",
              "      <td>b'Israeli Physicians Group Condemns State Tort...</td>\n",
              "      <td>b' Russia has just beaten the United States ov...</td>\n",
              "      <td>b'Perhaps *the* question about the Georgia - R...</td>\n",
              "      <td>b'Russia is so much better at war'</td>\n",
              "      <td>b\"So this is what it's come to: trading sex fo...</td>\n",
              "    </tr>\n",
              "    <tr>\n",
              "      <th>2</th>\n",
              "      <td>2008-08-12</td>\n",
              "      <td>0</td>\n",
              "      <td>b'Remember that adorable 9-year-old who sang a...</td>\n",
              "      <td>b\"Russia 'ends Georgia operation'\"</td>\n",
              "      <td>b'\"If we had no sexual harassment we would hav...</td>\n",
              "      <td>b\"Al-Qa'eda is losing support in Iraq because ...</td>\n",
              "      <td>b'Ceasefire in Georgia: Putin Outmaneuvers the...</td>\n",
              "      <td>b'Why Microsoft and Intel tried to kill the XO...</td>\n",
              "      <td>b'Stratfor: The Russo-Georgian War and the Bal...</td>\n",
              "      <td>b\"I'm Trying to Get a Sense of This Whole Geor...</td>\n",
              "      <td>b\"The US military was surprised by the timing ...</td>\n",
              "      <td>b'U.S. Beats War Drum as Iran Dumps the Dollar'</td>\n",
              "      <td>b'Gorbachev: \"Georgian military attacked the S...</td>\n",
              "      <td>b'CNN use footage of Tskhinvali ruins to cover...</td>\n",
              "      <td>b'Beginning a war as the Olympics were opening...</td>\n",
              "      <td>b'55 pyramids as large as the Luxor stacked in...</td>\n",
              "      <td>b'The 11 Top Party Cities in the World'</td>\n",
              "      <td>b'U.S. troops still in Georgia (did you know t...</td>\n",
              "      <td>b'Why Russias response to Georgia was right'</td>\n",
              "      <td>b'Gorbachev accuses U.S. of making a \"serious ...</td>\n",
              "      <td>b'Russia, Georgia, and NATO: Cold War Two'</td>\n",
              "      <td>b'Remember that adorable 62-year-old who led y...</td>\n",
              "      <td>b'War in Georgia: The Israeli connection'</td>\n",
              "      <td>b'All signs point to the US encouraging Georgi...</td>\n",
              "      <td>b'Christopher King argues that the US and NATO...</td>\n",
              "      <td>b'America: The New Mexico?'</td>\n",
              "      <td>b\"BBC NEWS | Asia-Pacific | Extinction 'by man...</td>\n",
              "    </tr>\n",
              "    <tr>\n",
              "      <th>3</th>\n",
              "      <td>2008-08-13</td>\n",
              "      <td>0</td>\n",
              "      <td>b' U.S. refuses Israel weapons to attack Iran:...</td>\n",
              "      <td>b\"When the president ordered to attack Tskhinv...</td>\n",
              "      <td>b' Israel clears troops who killed Reuters cam...</td>\n",
              "      <td>b'Britain\\'s policy of being tough on drugs is...</td>\n",
              "      <td>b'Body of 14 year old found in trunk; Latest (...</td>\n",
              "      <td>b'China has moved 10 *million* quake survivors...</td>\n",
              "      <td>b\"Bush announces Operation Get All Up In Russi...</td>\n",
              "      <td>b'Russian forces sink Georgian ships '</td>\n",
              "      <td>b\"The commander of a Navy air reconnaissance s...</td>\n",
              "      <td>b\"92% of CNN readers: Russia's actions in Geor...</td>\n",
              "      <td>b'USA to send fleet into Black Sea to help Geo...</td>\n",
              "      <td>b\"US warns against Israeli plan to strike agai...</td>\n",
              "      <td>b\"In an intriguing cyberalliance, two Estonian...</td>\n",
              "      <td>b'The CNN Effect: Georgia Schools Russia in In...</td>\n",
              "      <td>b'Why Russias response to Georgia was right'</td>\n",
              "      <td>b'Elephants extinct by 2020?'</td>\n",
              "      <td>b'US humanitarian missions soon in Georgia - i...</td>\n",
              "      <td>b\"Georgia's DDOS came from US sources\"</td>\n",
              "      <td>b'Russian convoy heads into Georgia, violating...</td>\n",
              "      <td>b'Israeli defence minister: US against strike ...</td>\n",
              "      <td>b'Gorbachev: We Had No Choice'</td>\n",
              "      <td>b'Witness: Russian forces head towards Tbilisi...</td>\n",
              "      <td>b' Quarter of Russians blame U.S. for conflict...</td>\n",
              "      <td>b'Georgian president  says US military will ta...</td>\n",
              "      <td>b'2006: Nobel laureate Aleksander Solzhenitsyn...</td>\n",
              "    </tr>\n",
              "    <tr>\n",
              "      <th>4</th>\n",
              "      <td>2008-08-14</td>\n",
              "      <td>1</td>\n",
              "      <td>b'All the experts admit that we should legalis...</td>\n",
              "      <td>b'War in South Osetia - 89 pictures made by a ...</td>\n",
              "      <td>b'Swedish wrestler Ara Abrahamian throws away ...</td>\n",
              "      <td>b'Russia exaggerated the death toll in South O...</td>\n",
              "      <td>b'Missile That Killed 9 Inside Pakistan May Ha...</td>\n",
              "      <td>b\"Rushdie Condemns Random House's Refusal to P...</td>\n",
              "      <td>b'Poland and US agree to missle defense deal. ...</td>\n",
              "      <td>b'Will the Russians conquer Tblisi? Bet on it,...</td>\n",
              "      <td>b'Russia exaggerating South Ossetian death tol...</td>\n",
              "      <td>b' Musharraf expected to resign rather than fa...</td>\n",
              "      <td>b'Moscow Made Plans Months Ago to Invade Georgia'</td>\n",
              "      <td>b'Why Russias response to Georgia was right'</td>\n",
              "      <td>b'Nigeria has handed over the potentially oil-...</td>\n",
              "      <td>b'The US and Poland have agreed a preliminary ...</td>\n",
              "      <td>b'Russia apparently is sabotaging infrastructu...</td>\n",
              "      <td>b'Bank analyst forecast Georgian crisis 2 days...</td>\n",
              "      <td>b\"Georgia confict could set back Russia's US r...</td>\n",
              "      <td>b'War in the Caucasus is as much the product o...</td>\n",
              "      <td>b'\"Non-media\" photos of South Ossetia/Georgia ...</td>\n",
              "      <td>b'Georgian TV reporter shot by Russian sniper ...</td>\n",
              "      <td>b'Saudi Arabia: Mother moves to block child ma...</td>\n",
              "      <td>b'Taliban wages war on humanitarian aid workers'</td>\n",
              "      <td>b'Russia: World  \"can forget about\" Georgia\\'s...</td>\n",
              "      <td>b'Darfur rebels accuse Sudan of mounting major...</td>\n",
              "      <td>b'Philippines : Peace Advocate say Muslims nee...</td>\n",
              "    </tr>\n",
              "  </tbody>\n",
              "</table>\n",
              "</div>"
            ],
            "text/plain": [
              "         Date  ...                                              Top25\n",
              "0  2008-08-08  ...           b\"No Help for Mexico's Kidnapping Surge\"\n",
              "1  2008-08-11  ...  b\"So this is what it's come to: trading sex fo...\n",
              "2  2008-08-12  ...  b\"BBC NEWS | Asia-Pacific | Extinction 'by man...\n",
              "3  2008-08-13  ...  b'2006: Nobel laureate Aleksander Solzhenitsyn...\n",
              "4  2008-08-14  ...  b'Philippines : Peace Advocate say Muslims nee...\n",
              "\n",
              "[5 rows x 27 columns]"
            ]
          },
          "metadata": {
            "tags": []
          },
          "execution_count": 50
        }
      ]
    },
    {
      "cell_type": "code",
      "metadata": {
        "id": "T3QOAgga5sOC",
        "outputId": "f3999d17-074a-44de-c3dc-2f79b9ace8dd",
        "colab": {
          "base_uri": "https://localhost:8080/",
          "height": 683
        }
      },
      "source": [
        "#clean the features\n",
        "#lower the case\n",
        "#remove punctuation marks\n",
        "#combine them into a features\n",
        "import re\n",
        "def combining_cleaning(headlines):\n",
        "  combined=[]\n",
        "  for i in range(0,len(headlines.index)):\n",
        "    combined.append(' '.join(str(x).lower() for x in headlines.iloc[i,2:27]))\n",
        "  for i in range(0,len(combined)):\n",
        "    combined[i]=re.sub(\"b[(')]+\",'',combined[i])\n",
        "    combined[i]=re.sub(\"\\'\",'',combined[i])\n",
        "    combined[i]=re.sub('b[(\")]+','',combined[i])\n",
        "    combined[i]=re.sub('[(\")]','',combined[i])\n",
        "    combined[i]=re.sub(\"[^a-z]\",\" \",combined[i])\n",
        "  headlines[\"combined_features\"]=combined\n",
        "  return headlines\n",
        "combining_cleaning(headlines).head()"
      ],
      "execution_count": 235,
      "outputs": [
        {
          "output_type": "execute_result",
          "data": {
            "text/html": [
              "<div>\n",
              "<style scoped>\n",
              "    .dataframe tbody tr th:only-of-type {\n",
              "        vertical-align: middle;\n",
              "    }\n",
              "\n",
              "    .dataframe tbody tr th {\n",
              "        vertical-align: top;\n",
              "    }\n",
              "\n",
              "    .dataframe thead th {\n",
              "        text-align: right;\n",
              "    }\n",
              "</style>\n",
              "<table border=\"1\" class=\"dataframe\">\n",
              "  <thead>\n",
              "    <tr style=\"text-align: right;\">\n",
              "      <th></th>\n",
              "      <th>Date</th>\n",
              "      <th>Label</th>\n",
              "      <th>Top1</th>\n",
              "      <th>Top2</th>\n",
              "      <th>Top3</th>\n",
              "      <th>Top4</th>\n",
              "      <th>Top5</th>\n",
              "      <th>Top6</th>\n",
              "      <th>Top7</th>\n",
              "      <th>Top8</th>\n",
              "      <th>Top9</th>\n",
              "      <th>Top10</th>\n",
              "      <th>Top11</th>\n",
              "      <th>Top12</th>\n",
              "      <th>Top13</th>\n",
              "      <th>Top14</th>\n",
              "      <th>Top15</th>\n",
              "      <th>Top16</th>\n",
              "      <th>Top17</th>\n",
              "      <th>Top18</th>\n",
              "      <th>Top19</th>\n",
              "      <th>Top20</th>\n",
              "      <th>Top21</th>\n",
              "      <th>Top22</th>\n",
              "      <th>Top23</th>\n",
              "      <th>Top24</th>\n",
              "      <th>Top25</th>\n",
              "      <th>combined_features</th>\n",
              "    </tr>\n",
              "  </thead>\n",
              "  <tbody>\n",
              "    <tr>\n",
              "      <th>0</th>\n",
              "      <td>2008-08-08</td>\n",
              "      <td>0</td>\n",
              "      <td>b\"Georgia 'downs two Russian warplanes' as cou...</td>\n",
              "      <td>b'BREAKING: Musharraf to be impeached.'</td>\n",
              "      <td>b'Russia Today: Columns of troops roll into So...</td>\n",
              "      <td>b'Russian tanks are moving towards the capital...</td>\n",
              "      <td>b\"Afghan children raped with 'impunity,' U.N. ...</td>\n",
              "      <td>b'150 Russian tanks have entered South Ossetia...</td>\n",
              "      <td>b\"Breaking: Georgia invades South Ossetia, Rus...</td>\n",
              "      <td>b\"The 'enemy combatent' trials are nothing but...</td>\n",
              "      <td>b'Georgian troops retreat from S. Osettain cap...</td>\n",
              "      <td>b'Did the U.S. Prep Georgia for War with Russia?'</td>\n",
              "      <td>b'Rice Gives Green Light for Israel to Attack ...</td>\n",
              "      <td>b'Announcing:Class Action Lawsuit on Behalf of...</td>\n",
              "      <td>b\"So---Russia and Georgia are at war and the N...</td>\n",
              "      <td>b\"China tells Bush to stay out of other countr...</td>\n",
              "      <td>b'Did World War III start today?'</td>\n",
              "      <td>b'Georgia Invades South Ossetia - if Russia ge...</td>\n",
              "      <td>b'Al-Qaeda Faces Islamist Backlash'</td>\n",
              "      <td>b'Condoleezza Rice: \"The US would not act to p...</td>\n",
              "      <td>b'This is a busy day:  The European Union has ...</td>\n",
              "      <td>b\"Georgia will withdraw 1,000 soldiers from Ir...</td>\n",
              "      <td>b'Why the Pentagon Thinks Attacking Iran is a ...</td>\n",
              "      <td>b'Caucasus in crisis: Georgia invades South Os...</td>\n",
              "      <td>b'Indian shoe manufactory  - And again in a se...</td>\n",
              "      <td>b'Visitors Suffering from Mental Illnesses Ban...</td>\n",
              "      <td>b\"No Help for Mexico's Kidnapping Surge\"</td>\n",
              "      <td>georgia downs two russian warplanes as countri...</td>\n",
              "    </tr>\n",
              "    <tr>\n",
              "      <th>1</th>\n",
              "      <td>2008-08-11</td>\n",
              "      <td>1</td>\n",
              "      <td>b'Why wont America and Nato help us? If they w...</td>\n",
              "      <td>b'Bush puts foot down on Georgian conflict'</td>\n",
              "      <td>b\"Jewish Georgian minister: Thanks to Israeli ...</td>\n",
              "      <td>b'Georgian army flees in disarray as Russians ...</td>\n",
              "      <td>b\"Olympic opening ceremony fireworks 'faked'\"</td>\n",
              "      <td>b'What were the Mossad with fraudulent New Zea...</td>\n",
              "      <td>b'Russia angered by Israeli military sale to G...</td>\n",
              "      <td>b'An American citizen living in S.Ossetia blam...</td>\n",
              "      <td>b'Welcome To World War IV! Now In High Definit...</td>\n",
              "      <td>b\"Georgia's move, a mistake of monumental prop...</td>\n",
              "      <td>b'Russia presses deeper into Georgia; U.S. say...</td>\n",
              "      <td>b'Abhinav Bindra wins first ever Individual Ol...</td>\n",
              "      <td>b' U.S. ship heads for Arctic to define territ...</td>\n",
              "      <td>b'Drivers in a Jerusalem taxi station threaten...</td>\n",
              "      <td>b'The French Team is Stunned by Phelps and the...</td>\n",
              "      <td>b'Israel and the US behind the Georgian aggres...</td>\n",
              "      <td>b'\"Do not believe TV, neither Russian nor Geor...</td>\n",
              "      <td>b'Riots are still going on in Montreal (Canada...</td>\n",
              "      <td>b'China to overtake US as largest manufacturer'</td>\n",
              "      <td>b'War in South Ossetia [PICS]'</td>\n",
              "      <td>b'Israeli Physicians Group Condemns State Tort...</td>\n",
              "      <td>b' Russia has just beaten the United States ov...</td>\n",
              "      <td>b'Perhaps *the* question about the Georgia - R...</td>\n",
              "      <td>b'Russia is so much better at war'</td>\n",
              "      <td>b\"So this is what it's come to: trading sex fo...</td>\n",
              "      <td>why wont america and nato help us  if they won...</td>\n",
              "    </tr>\n",
              "    <tr>\n",
              "      <th>2</th>\n",
              "      <td>2008-08-12</td>\n",
              "      <td>0</td>\n",
              "      <td>b'Remember that adorable 9-year-old who sang a...</td>\n",
              "      <td>b\"Russia 'ends Georgia operation'\"</td>\n",
              "      <td>b'\"If we had no sexual harassment we would hav...</td>\n",
              "      <td>b\"Al-Qa'eda is losing support in Iraq because ...</td>\n",
              "      <td>b'Ceasefire in Georgia: Putin Outmaneuvers the...</td>\n",
              "      <td>b'Why Microsoft and Intel tried to kill the XO...</td>\n",
              "      <td>b'Stratfor: The Russo-Georgian War and the Bal...</td>\n",
              "      <td>b\"I'm Trying to Get a Sense of This Whole Geor...</td>\n",
              "      <td>b\"The US military was surprised by the timing ...</td>\n",
              "      <td>b'U.S. Beats War Drum as Iran Dumps the Dollar'</td>\n",
              "      <td>b'Gorbachev: \"Georgian military attacked the S...</td>\n",
              "      <td>b'CNN use footage of Tskhinvali ruins to cover...</td>\n",
              "      <td>b'Beginning a war as the Olympics were opening...</td>\n",
              "      <td>b'55 pyramids as large as the Luxor stacked in...</td>\n",
              "      <td>b'The 11 Top Party Cities in the World'</td>\n",
              "      <td>b'U.S. troops still in Georgia (did you know t...</td>\n",
              "      <td>b'Why Russias response to Georgia was right'</td>\n",
              "      <td>b'Gorbachev accuses U.S. of making a \"serious ...</td>\n",
              "      <td>b'Russia, Georgia, and NATO: Cold War Two'</td>\n",
              "      <td>b'Remember that adorable 62-year-old who led y...</td>\n",
              "      <td>b'War in Georgia: The Israeli connection'</td>\n",
              "      <td>b'All signs point to the US encouraging Georgi...</td>\n",
              "      <td>b'Christopher King argues that the US and NATO...</td>\n",
              "      <td>b'America: The New Mexico?'</td>\n",
              "      <td>b\"BBC NEWS | Asia-Pacific | Extinction 'by man...</td>\n",
              "      <td>remember that adorable   year old who sang at ...</td>\n",
              "    </tr>\n",
              "    <tr>\n",
              "      <th>3</th>\n",
              "      <td>2008-08-13</td>\n",
              "      <td>0</td>\n",
              "      <td>b' U.S. refuses Israel weapons to attack Iran:...</td>\n",
              "      <td>b\"When the president ordered to attack Tskhinv...</td>\n",
              "      <td>b' Israel clears troops who killed Reuters cam...</td>\n",
              "      <td>b'Britain\\'s policy of being tough on drugs is...</td>\n",
              "      <td>b'Body of 14 year old found in trunk; Latest (...</td>\n",
              "      <td>b'China has moved 10 *million* quake survivors...</td>\n",
              "      <td>b\"Bush announces Operation Get All Up In Russi...</td>\n",
              "      <td>b'Russian forces sink Georgian ships '</td>\n",
              "      <td>b\"The commander of a Navy air reconnaissance s...</td>\n",
              "      <td>b\"92% of CNN readers: Russia's actions in Geor...</td>\n",
              "      <td>b'USA to send fleet into Black Sea to help Geo...</td>\n",
              "      <td>b\"US warns against Israeli plan to strike agai...</td>\n",
              "      <td>b\"In an intriguing cyberalliance, two Estonian...</td>\n",
              "      <td>b'The CNN Effect: Georgia Schools Russia in In...</td>\n",
              "      <td>b'Why Russias response to Georgia was right'</td>\n",
              "      <td>b'Elephants extinct by 2020?'</td>\n",
              "      <td>b'US humanitarian missions soon in Georgia - i...</td>\n",
              "      <td>b\"Georgia's DDOS came from US sources\"</td>\n",
              "      <td>b'Russian convoy heads into Georgia, violating...</td>\n",
              "      <td>b'Israeli defence minister: US against strike ...</td>\n",
              "      <td>b'Gorbachev: We Had No Choice'</td>\n",
              "      <td>b'Witness: Russian forces head towards Tbilisi...</td>\n",
              "      <td>b' Quarter of Russians blame U.S. for conflict...</td>\n",
              "      <td>b'Georgian president  says US military will ta...</td>\n",
              "      <td>b'2006: Nobel laureate Aleksander Solzhenitsyn...</td>\n",
              "      <td>u s  refuses israel weapons to attack iran  r...</td>\n",
              "    </tr>\n",
              "    <tr>\n",
              "      <th>4</th>\n",
              "      <td>2008-08-14</td>\n",
              "      <td>1</td>\n",
              "      <td>b'All the experts admit that we should legalis...</td>\n",
              "      <td>b'War in South Osetia - 89 pictures made by a ...</td>\n",
              "      <td>b'Swedish wrestler Ara Abrahamian throws away ...</td>\n",
              "      <td>b'Russia exaggerated the death toll in South O...</td>\n",
              "      <td>b'Missile That Killed 9 Inside Pakistan May Ha...</td>\n",
              "      <td>b\"Rushdie Condemns Random House's Refusal to P...</td>\n",
              "      <td>b'Poland and US agree to missle defense deal. ...</td>\n",
              "      <td>b'Will the Russians conquer Tblisi? Bet on it,...</td>\n",
              "      <td>b'Russia exaggerating South Ossetian death tol...</td>\n",
              "      <td>b' Musharraf expected to resign rather than fa...</td>\n",
              "      <td>b'Moscow Made Plans Months Ago to Invade Georgia'</td>\n",
              "      <td>b'Why Russias response to Georgia was right'</td>\n",
              "      <td>b'Nigeria has handed over the potentially oil-...</td>\n",
              "      <td>b'The US and Poland have agreed a preliminary ...</td>\n",
              "      <td>b'Russia apparently is sabotaging infrastructu...</td>\n",
              "      <td>b'Bank analyst forecast Georgian crisis 2 days...</td>\n",
              "      <td>b\"Georgia confict could set back Russia's US r...</td>\n",
              "      <td>b'War in the Caucasus is as much the product o...</td>\n",
              "      <td>b'\"Non-media\" photos of South Ossetia/Georgia ...</td>\n",
              "      <td>b'Georgian TV reporter shot by Russian sniper ...</td>\n",
              "      <td>b'Saudi Arabia: Mother moves to block child ma...</td>\n",
              "      <td>b'Taliban wages war on humanitarian aid workers'</td>\n",
              "      <td>b'Russia: World  \"can forget about\" Georgia\\'s...</td>\n",
              "      <td>b'Darfur rebels accuse Sudan of mounting major...</td>\n",
              "      <td>b'Philippines : Peace Advocate say Muslims nee...</td>\n",
              "      <td>all the experts admit that we should legalise ...</td>\n",
              "    </tr>\n",
              "  </tbody>\n",
              "</table>\n",
              "</div>"
            ],
            "text/plain": [
              "         Date  ...                                  combined_features\n",
              "0  2008-08-08  ...  georgia downs two russian warplanes as countri...\n",
              "1  2008-08-11  ...  why wont america and nato help us  if they won...\n",
              "2  2008-08-12  ...  remember that adorable   year old who sang at ...\n",
              "3  2008-08-13  ...   u s  refuses israel weapons to attack iran  r...\n",
              "4  2008-08-14  ...  all the experts admit that we should legalise ...\n",
              "\n",
              "[5 rows x 28 columns]"
            ]
          },
          "metadata": {
            "tags": []
          },
          "execution_count": 235
        }
      ]
    },
    {
      "cell_type": "code",
      "metadata": {
        "id": "GkizkFRZ6ze6"
      },
      "source": [
        "headlines_combined=[]\n",
        "for i in range(0,len(headlines.index)):\n",
        "  headlines_combined.append(headlines['combined_features'][i])\n",
        "countvector=CountVectorizer()\n",
        "count_features=countvector.fit_transform(headlines_combined)"
      ],
      "execution_count": null,
      "outputs": []
    },
    {
      "cell_type": "code",
      "metadata": {
        "id": "VnjeMHv87KGw"
      },
      "source": [
        "#splitting the data into test and training data\n",
        "X=headlines[['combined_features']]\n",
        "y=headlines[['Label']]\n",
        "X_train,X_test,y_train,y_test=train_test_split(X,y,test_size=0.3,random_state=0)"
      ],
      "execution_count": null,
      "outputs": []
    },
    {
      "cell_type": "code",
      "metadata": {
        "id": "NKNma6e0-qNu"
      },
      "source": [
        "X_train=X_train.reset_index()\n",
        "X_test=X_test.reset_index()\n",
        "y_train=y_train.reset_index()\n",
        "y_test=y_test.reset_index()"
      ],
      "execution_count": null,
      "outputs": []
    },
    {
      "cell_type": "code",
      "metadata": {
        "id": "9nHqaQ3V-s4a",
        "outputId": "10f336b5-99bd-4648-f32f-fce31ea31204",
        "colab": {
          "base_uri": "https://localhost:8080/",
          "height": 419
        }
      },
      "source": [
        "X_train"
      ],
      "execution_count": null,
      "outputs": [
        {
          "output_type": "execute_result",
          "data": {
            "text/html": [
              "<div>\n",
              "<style scoped>\n",
              "    .dataframe tbody tr th:only-of-type {\n",
              "        vertical-align: middle;\n",
              "    }\n",
              "\n",
              "    .dataframe tbody tr th {\n",
              "        vertical-align: top;\n",
              "    }\n",
              "\n",
              "    .dataframe thead th {\n",
              "        text-align: right;\n",
              "    }\n",
              "</style>\n",
              "<table border=\"1\" class=\"dataframe\">\n",
              "  <thead>\n",
              "    <tr style=\"text-align: right;\">\n",
              "      <th></th>\n",
              "      <th>index</th>\n",
              "      <th>combined_features</th>\n",
              "    </tr>\n",
              "  </thead>\n",
              "  <tbody>\n",
              "    <tr>\n",
              "      <th>0</th>\n",
              "      <td>1694</td>\n",
              "      <td>russian official severely beaten after reporti...</td>\n",
              "    </tr>\n",
              "    <tr>\n",
              "      <th>1</th>\n",
              "      <td>1597</td>\n",
              "      <td>each time police shut pirate bay  well multipl...</td>\n",
              "    </tr>\n",
              "    <tr>\n",
              "      <th>2</th>\n",
              "      <td>482</td>\n",
              "      <td>iran  woman adulterer will not face stoning bp...</td>\n",
              "    </tr>\n",
              "    <tr>\n",
              "      <th>3</th>\n",
              "      <td>842</td>\n",
              "      <td>iranian tv airs footage of captured us drone a...</td>\n",
              "    </tr>\n",
              "    <tr>\n",
              "      <th>4</th>\n",
              "      <td>372</td>\n",
              "      <td>internet uprising overturns australian censors...</td>\n",
              "    </tr>\n",
              "    <tr>\n",
              "      <th>...</th>\n",
              "      <td>...</td>\n",
              "      <td>...</td>\n",
              "    </tr>\n",
              "    <tr>\n",
              "      <th>1387</th>\n",
              "      <td>835</td>\n",
              "      <td>uk experiencing the worst disruption to servic...</td>\n",
              "    </tr>\n",
              "    <tr>\n",
              "      <th>1388</th>\n",
              "      <td>1216</td>\n",
              "      <td>edward snowden  the whistleblower behind revel...</td>\n",
              "    </tr>\n",
              "    <tr>\n",
              "      <th>1389</th>\n",
              "      <td>1653</td>\n",
              "      <td>study confirms that abstinence education has u...</td>\n",
              "    </tr>\n",
              "    <tr>\n",
              "      <th>1390</th>\n",
              "      <td>559</td>\n",
              "      <td>wikileaks ready to drop a bombshell on russia ...</td>\n",
              "    </tr>\n",
              "    <tr>\n",
              "      <th>1391</th>\n",
              "      <td>684</td>\n",
              "      <td>fatah and hamas sign reconciliation deal  pale...</td>\n",
              "    </tr>\n",
              "  </tbody>\n",
              "</table>\n",
              "<p>1392 rows × 2 columns</p>\n",
              "</div>"
            ],
            "text/plain": [
              "      index                                  combined_features\n",
              "0      1694  russian official severely beaten after reporti...\n",
              "1      1597  each time police shut pirate bay  well multipl...\n",
              "2       482  iran  woman adulterer will not face stoning bp...\n",
              "3       842  iranian tv airs footage of captured us drone a...\n",
              "4       372  internet uprising overturns australian censors...\n",
              "...     ...                                                ...\n",
              "1387    835  uk experiencing the worst disruption to servic...\n",
              "1388   1216  edward snowden  the whistleblower behind revel...\n",
              "1389   1653  study confirms that abstinence education has u...\n",
              "1390    559  wikileaks ready to drop a bombshell on russia ...\n",
              "1391    684  fatah and hamas sign reconciliation deal  pale...\n",
              "\n",
              "[1392 rows x 2 columns]"
            ]
          },
          "metadata": {
            "tags": []
          },
          "execution_count": 174
        }
      ]
    },
    {
      "cell_type": "code",
      "metadata": {
        "id": "Q31iq1JL-uq1",
        "outputId": "e7d5f51c-3595-4ee8-e000-375dc8045581",
        "colab": {
          "base_uri": "https://localhost:8080/",
          "height": 419
        }
      },
      "source": [
        "X_test"
      ],
      "execution_count": null,
      "outputs": [
        {
          "output_type": "execute_result",
          "data": {
            "text/html": [
              "<div>\n",
              "<style scoped>\n",
              "    .dataframe tbody tr th:only-of-type {\n",
              "        vertical-align: middle;\n",
              "    }\n",
              "\n",
              "    .dataframe tbody tr th {\n",
              "        vertical-align: top;\n",
              "    }\n",
              "\n",
              "    .dataframe thead th {\n",
              "        text-align: right;\n",
              "    }\n",
              "</style>\n",
              "<table border=\"1\" class=\"dataframe\">\n",
              "  <thead>\n",
              "    <tr style=\"text-align: right;\">\n",
              "      <th></th>\n",
              "      <th>index</th>\n",
              "      <th>combined_features</th>\n",
              "    </tr>\n",
              "  </thead>\n",
              "  <tbody>\n",
              "    <tr>\n",
              "      <th>0</th>\n",
              "      <td>1292</td>\n",
              "      <td>irans new president  yes  the holocaust happen...</td>\n",
              "    </tr>\n",
              "    <tr>\n",
              "      <th>1</th>\n",
              "      <td>1310</td>\n",
              "      <td>china smog emergency shuts city of    million ...</td>\n",
              "    </tr>\n",
              "    <tr>\n",
              "      <th>2</th>\n",
              "      <td>960</td>\n",
              "      <td>france to cap executive pay at state firms  no...</td>\n",
              "    </tr>\n",
              "    <tr>\n",
              "      <th>3</th>\n",
              "      <td>107</td>\n",
              "      <td>the video the israeli army didnt want you to s...</td>\n",
              "    </tr>\n",
              "    <tr>\n",
              "      <th>4</th>\n",
              "      <td>1556</td>\n",
              "      <td>doctors without borders loses   medics to ebol...</td>\n",
              "    </tr>\n",
              "    <tr>\n",
              "      <th>...</th>\n",
              "      <td>...</td>\n",
              "      <td>...</td>\n",
              "    </tr>\n",
              "    <tr>\n",
              "      <th>592</th>\n",
              "      <td>108</td>\n",
              "      <td>greece hinders us arms delivery to israel cana...</td>\n",
              "    </tr>\n",
              "    <tr>\n",
              "      <th>593</th>\n",
              "      <td>1611</td>\n",
              "      <td>most cases of cancer are the result of sheer b...</td>\n",
              "    </tr>\n",
              "    <tr>\n",
              "      <th>594</th>\n",
              "      <td>1415</td>\n",
              "      <td>solar power is now just as cheap as convention...</td>\n",
              "    </tr>\n",
              "    <tr>\n",
              "      <th>595</th>\n",
              "      <td>2</td>\n",
              "      <td>remember that adorable   year old who sang at ...</td>\n",
              "    </tr>\n",
              "    <tr>\n",
              "      <th>596</th>\n",
              "      <td>1525</td>\n",
              "      <td>ukraine to seek nato membership u s  says russ...</td>\n",
              "    </tr>\n",
              "  </tbody>\n",
              "</table>\n",
              "<p>597 rows × 2 columns</p>\n",
              "</div>"
            ],
            "text/plain": [
              "     index                                  combined_features\n",
              "0     1292  irans new president  yes  the holocaust happen...\n",
              "1     1310  china smog emergency shuts city of    million ...\n",
              "2      960  france to cap executive pay at state firms  no...\n",
              "3      107  the video the israeli army didnt want you to s...\n",
              "4     1556  doctors without borders loses   medics to ebol...\n",
              "..     ...                                                ...\n",
              "592    108  greece hinders us arms delivery to israel cana...\n",
              "593   1611  most cases of cancer are the result of sheer b...\n",
              "594   1415  solar power is now just as cheap as convention...\n",
              "595      2  remember that adorable   year old who sang at ...\n",
              "596   1525  ukraine to seek nato membership u s  says russ...\n",
              "\n",
              "[597 rows x 2 columns]"
            ]
          },
          "metadata": {
            "tags": []
          },
          "execution_count": 175
        }
      ]
    },
    {
      "cell_type": "code",
      "metadata": {
        "id": "ediuo0k8-wAx",
        "outputId": "eee49b6a-fb55-40f6-de52-21b72adf61a3",
        "colab": {
          "base_uri": "https://localhost:8080/",
          "height": 419
        }
      },
      "source": [
        "y_train"
      ],
      "execution_count": null,
      "outputs": [
        {
          "output_type": "execute_result",
          "data": {
            "text/html": [
              "<div>\n",
              "<style scoped>\n",
              "    .dataframe tbody tr th:only-of-type {\n",
              "        vertical-align: middle;\n",
              "    }\n",
              "\n",
              "    .dataframe tbody tr th {\n",
              "        vertical-align: top;\n",
              "    }\n",
              "\n",
              "    .dataframe thead th {\n",
              "        text-align: right;\n",
              "    }\n",
              "</style>\n",
              "<table border=\"1\" class=\"dataframe\">\n",
              "  <thead>\n",
              "    <tr style=\"text-align: right;\">\n",
              "      <th></th>\n",
              "      <th>index</th>\n",
              "      <th>Label</th>\n",
              "    </tr>\n",
              "  </thead>\n",
              "  <tbody>\n",
              "    <tr>\n",
              "      <th>0</th>\n",
              "      <td>1694</td>\n",
              "      <td>1</td>\n",
              "    </tr>\n",
              "    <tr>\n",
              "      <th>1</th>\n",
              "      <td>1597</td>\n",
              "      <td>1</td>\n",
              "    </tr>\n",
              "    <tr>\n",
              "      <th>2</th>\n",
              "      <td>482</td>\n",
              "      <td>1</td>\n",
              "    </tr>\n",
              "    <tr>\n",
              "      <th>3</th>\n",
              "      <td>842</td>\n",
              "      <td>1</td>\n",
              "    </tr>\n",
              "    <tr>\n",
              "      <th>4</th>\n",
              "      <td>372</td>\n",
              "      <td>1</td>\n",
              "    </tr>\n",
              "    <tr>\n",
              "      <th>...</th>\n",
              "      <td>...</td>\n",
              "      <td>...</td>\n",
              "    </tr>\n",
              "    <tr>\n",
              "      <th>1387</th>\n",
              "      <td>835</td>\n",
              "      <td>1</td>\n",
              "    </tr>\n",
              "    <tr>\n",
              "      <th>1388</th>\n",
              "      <td>1216</td>\n",
              "      <td>0</td>\n",
              "    </tr>\n",
              "    <tr>\n",
              "      <th>1389</th>\n",
              "      <td>1653</td>\n",
              "      <td>1</td>\n",
              "    </tr>\n",
              "    <tr>\n",
              "      <th>1390</th>\n",
              "      <td>559</td>\n",
              "      <td>0</td>\n",
              "    </tr>\n",
              "    <tr>\n",
              "      <th>1391</th>\n",
              "      <td>684</td>\n",
              "      <td>1</td>\n",
              "    </tr>\n",
              "  </tbody>\n",
              "</table>\n",
              "<p>1392 rows × 2 columns</p>\n",
              "</div>"
            ],
            "text/plain": [
              "      index  Label\n",
              "0      1694      1\n",
              "1      1597      1\n",
              "2       482      1\n",
              "3       842      1\n",
              "4       372      1\n",
              "...     ...    ...\n",
              "1387    835      1\n",
              "1388   1216      0\n",
              "1389   1653      1\n",
              "1390    559      0\n",
              "1391    684      1\n",
              "\n",
              "[1392 rows x 2 columns]"
            ]
          },
          "metadata": {
            "tags": []
          },
          "execution_count": 176
        }
      ]
    },
    {
      "cell_type": "code",
      "metadata": {
        "id": "qJWRFsJfCPLa",
        "outputId": "8b9e1fb2-78f1-4656-f061-3174af0e9486",
        "colab": {
          "base_uri": "https://localhost:8080/",
          "height": 419
        }
      },
      "source": [
        "y_test"
      ],
      "execution_count": null,
      "outputs": [
        {
          "output_type": "execute_result",
          "data": {
            "text/html": [
              "<div>\n",
              "<style scoped>\n",
              "    .dataframe tbody tr th:only-of-type {\n",
              "        vertical-align: middle;\n",
              "    }\n",
              "\n",
              "    .dataframe tbody tr th {\n",
              "        vertical-align: top;\n",
              "    }\n",
              "\n",
              "    .dataframe thead th {\n",
              "        text-align: right;\n",
              "    }\n",
              "</style>\n",
              "<table border=\"1\" class=\"dataframe\">\n",
              "  <thead>\n",
              "    <tr style=\"text-align: right;\">\n",
              "      <th></th>\n",
              "      <th>index</th>\n",
              "      <th>Label</th>\n",
              "    </tr>\n",
              "  </thead>\n",
              "  <tbody>\n",
              "    <tr>\n",
              "      <th>0</th>\n",
              "      <td>1292</td>\n",
              "      <td>1</td>\n",
              "    </tr>\n",
              "    <tr>\n",
              "      <th>1</th>\n",
              "      <td>1310</td>\n",
              "      <td>1</td>\n",
              "    </tr>\n",
              "    <tr>\n",
              "      <th>2</th>\n",
              "      <td>960</td>\n",
              "      <td>0</td>\n",
              "    </tr>\n",
              "    <tr>\n",
              "      <th>3</th>\n",
              "      <td>107</td>\n",
              "      <td>0</td>\n",
              "    </tr>\n",
              "    <tr>\n",
              "      <th>4</th>\n",
              "      <td>1556</td>\n",
              "      <td>0</td>\n",
              "    </tr>\n",
              "    <tr>\n",
              "      <th>...</th>\n",
              "      <td>...</td>\n",
              "      <td>...</td>\n",
              "    </tr>\n",
              "    <tr>\n",
              "      <th>592</th>\n",
              "      <td>108</td>\n",
              "      <td>0</td>\n",
              "    </tr>\n",
              "    <tr>\n",
              "      <th>593</th>\n",
              "      <td>1611</td>\n",
              "      <td>1</td>\n",
              "    </tr>\n",
              "    <tr>\n",
              "      <th>594</th>\n",
              "      <td>1415</td>\n",
              "      <td>1</td>\n",
              "    </tr>\n",
              "    <tr>\n",
              "      <th>595</th>\n",
              "      <td>2</td>\n",
              "      <td>0</td>\n",
              "    </tr>\n",
              "    <tr>\n",
              "      <th>596</th>\n",
              "      <td>1525</td>\n",
              "      <td>1</td>\n",
              "    </tr>\n",
              "  </tbody>\n",
              "</table>\n",
              "<p>597 rows × 2 columns</p>\n",
              "</div>"
            ],
            "text/plain": [
              "     index  Label\n",
              "0     1292      1\n",
              "1     1310      1\n",
              "2      960      0\n",
              "3      107      0\n",
              "4     1556      0\n",
              "..     ...    ...\n",
              "592    108      0\n",
              "593   1611      1\n",
              "594   1415      1\n",
              "595      2      0\n",
              "596   1525      1\n",
              "\n",
              "[597 rows x 2 columns]"
            ]
          },
          "metadata": {
            "tags": []
          },
          "execution_count": 177
        }
      ]
    },
    {
      "cell_type": "code",
      "metadata": {
        "id": "utfNpyfq-xm9"
      },
      "source": [
        "def countfeatures_train_test(X_train,X_test):\n",
        "  headlines_combined_train=[]\n",
        "  headlines_combined_test=[]\n",
        "  for i in range(0,len(X_train.index)):\n",
        "    headlines_combined_train.append(X_train['combined_features'][i])\n",
        "  for i in range(0,len(X_test.index)):\n",
        "    headlines_combined_test.append(X_test['combined_features'][i])\n",
        "  count_features_train=countvector.fit_transform(headlines_combined_train)\n",
        "  count_features_test=countvector.transform(headlines_combined_test)\n",
        "  return count_features_train,count_features_test\n",
        "count_features_train,count_features_test=countfeatures_train_test(X_train,X_test)"
      ],
      "execution_count": null,
      "outputs": []
    },
    {
      "cell_type": "code",
      "metadata": {
        "id": "Nrr8vVm5CNOA",
        "outputId": "ea3be8d7-66cc-4b4e-8e4e-9b29977f3e50",
        "colab": {
          "base_uri": "https://localhost:8080/",
          "height": 153
        }
      },
      "source": [
        "randomclassifier=RandomForestClassifier(n_estimators=200,criterion='entropy',random_state=0)\n",
        "randomclassifier.fit(count_features_train,y_train['Label'])"
      ],
      "execution_count": null,
      "outputs": [
        {
          "output_type": "execute_result",
          "data": {
            "text/plain": [
              "RandomForestClassifier(bootstrap=True, ccp_alpha=0.0, class_weight=None,\n",
              "                       criterion='entropy', max_depth=None, max_features='auto',\n",
              "                       max_leaf_nodes=None, max_samples=None,\n",
              "                       min_impurity_decrease=0.0, min_impurity_split=None,\n",
              "                       min_samples_leaf=1, min_samples_split=2,\n",
              "                       min_weight_fraction_leaf=0.0, n_estimators=200,\n",
              "                       n_jobs=None, oob_score=False, random_state=0, verbose=0,\n",
              "                       warm_start=False)"
            ]
          },
          "metadata": {
            "tags": []
          },
          "execution_count": 179
        }
      ]
    },
    {
      "cell_type": "code",
      "metadata": {
        "id": "Td2jxSI_BGak"
      },
      "source": [
        "predict_sent_rand=randomclassifier.predict(count_features_test)"
      ],
      "execution_count": null,
      "outputs": []
    },
    {
      "cell_type": "code",
      "metadata": {
        "id": "NuhrobTtE3Q_",
        "outputId": "bdd04199-c9f4-499e-b8ad-d72d83463837",
        "colab": {
          "base_uri": "https://localhost:8080/",
          "height": 221
        }
      },
      "source": [
        "cm_rand=confusion_matrix(y_test['Label'],predict_sent_rand)\n",
        "acc_score_rand=accuracy_score(y_test['Label'],predict_sent_rand)\n",
        "rand_sent_report=classification_report(y_test['Label'],predict_sent_rand)\n",
        "print(cm)\n",
        "print(acc_score_rand)\n",
        "print(rand_sent_report)"
      ],
      "execution_count": null,
      "outputs": [
        {
          "output_type": "stream",
          "text": [
            "[[ 59 222]\n",
            " [ 54 262]]\n",
            "0.5376884422110553\n",
            "              precision    recall  f1-score   support\n",
            "\n",
            "           0       0.52      0.21      0.30       281\n",
            "           1       0.54      0.83      0.65       316\n",
            "\n",
            "    accuracy                           0.54       597\n",
            "   macro avg       0.53      0.52      0.48       597\n",
            "weighted avg       0.53      0.54      0.49       597\n",
            "\n"
          ],
          "name": "stdout"
        }
      ]
    },
    {
      "cell_type": "code",
      "metadata": {
        "id": "wRJFV8NcGHFz",
        "outputId": "10e46624-63d6-4e1e-b5c5-7e111ea94621",
        "colab": {
          "base_uri": "https://localhost:8080/",
          "height": 173
        }
      },
      "source": [
        "log_sent=LogisticRegression()\n",
        "log_sent.fit(count_features_train,y_train['Label'])\n",
        "predict_sent_log=log_sent.predict(count_features_test)"
      ],
      "execution_count": null,
      "outputs": [
        {
          "output_type": "stream",
          "text": [
            "/usr/local/lib/python3.6/dist-packages/sklearn/linear_model/_logistic.py:940: ConvergenceWarning: lbfgs failed to converge (status=1):\n",
            "STOP: TOTAL NO. of ITERATIONS REACHED LIMIT.\n",
            "\n",
            "Increase the number of iterations (max_iter) or scale the data as shown in:\n",
            "    https://scikit-learn.org/stable/modules/preprocessing.html\n",
            "Please also refer to the documentation for alternative solver options:\n",
            "    https://scikit-learn.org/stable/modules/linear_model.html#logistic-regression\n",
            "  extra_warning_msg=_LOGISTIC_SOLVER_CONVERGENCE_MSG)\n"
          ],
          "name": "stderr"
        }
      ]
    },
    {
      "cell_type": "code",
      "metadata": {
        "id": "7Ev3WYzxL9_F",
        "outputId": "c9c9f37d-fc96-45bc-e830-32c7d39d0eef",
        "colab": {
          "base_uri": "https://localhost:8080/",
          "height": 221
        }
      },
      "source": [
        "cm_log=confusion_matrix(y_test['Label'],predict_sent_log)\n",
        "acc_score_log=accuracy_score(y_test['Label'],predict_sent_log)\n",
        "log_sent_report=classification_report(y_test['Label'],predict_sent_log)\n",
        "print(cm_log)\n",
        "print(acc_score_log)\n",
        "print(log_sent_report)"
      ],
      "execution_count": null,
      "outputs": [
        {
          "output_type": "stream",
          "text": [
            "[[124 157]\n",
            " [141 175]]\n",
            "0.5008375209380235\n",
            "              precision    recall  f1-score   support\n",
            "\n",
            "           0       0.47      0.44      0.45       281\n",
            "           1       0.53      0.55      0.54       316\n",
            "\n",
            "    accuracy                           0.50       597\n",
            "   macro avg       0.50      0.50      0.50       597\n",
            "weighted avg       0.50      0.50      0.50       597\n",
            "\n"
          ],
          "name": "stdout"
        }
      ]
    },
    {
      "cell_type": "code",
      "metadata": {
        "id": "CWfd8eD9MIHa",
        "outputId": "4336d835-5396-4429-edcf-ae10f28456c6",
        "colab": {
          "base_uri": "https://localhost:8080/",
          "height": 221
        }
      },
      "source": [
        "lda_sent=LinearDiscriminantAnalysis()\n",
        "lda_sent.fit(count_features_train.toarray(),y_train['Label'])\n",
        "predict_sent_lda=lda_sent.predict(count_features_test.toarray())\n",
        "cm_lda=confusion_matrix(y_test['Label'],predict_sent_lda)\n",
        "acc_score_lda=accuracy_score(y_test['Label'],predict_sent_lda)\n",
        "lda_sent_report=classification_report(y_test['Label'],predict_sent_lda)\n",
        "print(cm_lda)\n",
        "print(acc_score_lda)\n",
        "print(lda_sent_report)"
      ],
      "execution_count": null,
      "outputs": [
        {
          "output_type": "stream",
          "text": [
            "[[ 31 250]\n",
            " [ 34 282]]\n",
            "0.52428810720268\n",
            "              precision    recall  f1-score   support\n",
            "\n",
            "           0       0.48      0.11      0.18       281\n",
            "           1       0.53      0.89      0.67       316\n",
            "\n",
            "    accuracy                           0.52       597\n",
            "   macro avg       0.50      0.50      0.42       597\n",
            "weighted avg       0.51      0.52      0.44       597\n",
            "\n"
          ],
          "name": "stdout"
        }
      ]
    },
    {
      "cell_type": "code",
      "metadata": {
        "id": "cf7KaZOtNd4Y",
        "outputId": "af0b8ed9-630a-4b53-a15f-3ace3917d3bc",
        "colab": {
          "base_uri": "https://localhost:8080/",
          "height": 221
        }
      },
      "source": [
        "decision_sent=DecisionTreeClassifier()\n",
        "decision_sent.fit(count_features_train,y_train['Label'])\n",
        "predict_sent_decision=decision_sent.predict(count_features_test)\n",
        "cm_decision=confusion_matrix(y_test['Label'],predict_sent_decision)\n",
        "acc_score_decision=accuracy_score(y_test['Label'],predict_sent_decision)\n",
        "decision_sent_report=classification_report(y_test['Label'],predict_sent_decision)\n",
        "print(cm_decision)\n",
        "print(acc_score_decision)\n",
        "print(decision_sent_report)"
      ],
      "execution_count": null,
      "outputs": [
        {
          "output_type": "stream",
          "text": [
            "[[136 145]\n",
            " [148 168]]\n",
            "0.509212730318258\n",
            "              precision    recall  f1-score   support\n",
            "\n",
            "           0       0.48      0.48      0.48       281\n",
            "           1       0.54      0.53      0.53       316\n",
            "\n",
            "    accuracy                           0.51       597\n",
            "   macro avg       0.51      0.51      0.51       597\n",
            "weighted avg       0.51      0.51      0.51       597\n",
            "\n"
          ],
          "name": "stdout"
        }
      ]
    },
    {
      "cell_type": "code",
      "metadata": {
        "id": "P6xIIe5yOyrG",
        "outputId": "44fdc767-e66b-49c8-d648-21bc37468d0a",
        "colab": {
          "base_uri": "https://localhost:8080/",
          "height": 221
        }
      },
      "source": [
        "svm_sent=SVC()\n",
        "svm_sent.fit(count_features_train,y_train['Label'])\n",
        "predict_sent_svm=svm_sent.predict(count_features_test)\n",
        "cm_svm=confusion_matrix(y_test['Label'],predict_sent_svm)\n",
        "acc_score_svm=accuracy_score(y_test['Label'],predict_sent_svm)\n",
        "svm_sent_report=classification_report(y_test['Label'],predict_sent_svm)\n",
        "print(cm_svm)\n",
        "print(acc_score_svm)\n",
        "print(svm_sent_report)"
      ],
      "execution_count": null,
      "outputs": [
        {
          "output_type": "stream",
          "text": [
            "[[  6 275]\n",
            " [  3 313]]\n",
            "0.5343383584589615\n",
            "              precision    recall  f1-score   support\n",
            "\n",
            "           0       0.67      0.02      0.04       281\n",
            "           1       0.53      0.99      0.69       316\n",
            "\n",
            "    accuracy                           0.53       597\n",
            "   macro avg       0.60      0.51      0.37       597\n",
            "weighted avg       0.60      0.53      0.39       597\n",
            "\n"
          ],
          "name": "stdout"
        }
      ]
    },
    {
      "cell_type": "code",
      "metadata": {
        "id": "r1jWFTDVPWwj",
        "outputId": "3ec28ede-4d38-4b75-b2cd-173bd57ca616",
        "colab": {
          "base_uri": "https://localhost:8080/",
          "height": 282
        }
      },
      "source": [
        "sns.heatmap(cm_svm,annot=True)"
      ],
      "execution_count": null,
      "outputs": [
        {
          "output_type": "execute_result",
          "data": {
            "text/plain": [
              "<matplotlib.axes._subplots.AxesSubplot at 0x7f397e5aec50>"
            ]
          },
          "metadata": {
            "tags": []
          },
          "execution_count": 198
        },
        {
          "output_type": "display_data",
          "data": {
            "image/png": "[encoded data removed]",
            "text/plain": [
              "<Figure size 432x288 with 2 Axes>"
            ]
          },
          "metadata": {
            "tags": [],
            "needs_background": "light"
          }
        }
      ]
    },
    {
      "cell_type": "code",
      "metadata": {
        "id": "nnG4EKw_Q5KA",
        "outputId": "32e8812b-28c1-4631-d561-463065443dde",
        "colab": {
          "base_uri": "https://localhost:8080/",
          "height": 282
        }
      },
      "source": [
        "sns.heatmap(cm_decision,annot=True)"
      ],
      "execution_count": null,
      "outputs": [
        {
          "output_type": "execute_result",
          "data": {
            "text/plain": [
              "<matplotlib.axes._subplots.AxesSubplot at 0x7f397a9940b8>"
            ]
          },
          "metadata": {
            "tags": []
          },
          "execution_count": 199
        },
        {
          "output_type": "display_data",
          "data": {
            "image/png": "[encoded data removed]",
            "text/plain": [
              "<Figure size 432x288 with 2 Axes>"
            ]
          },
          "metadata": {
            "tags": [],
            "needs_background": "light"
          }
        }
      ]
    },
    {
      "cell_type": "code",
      "metadata": {
        "id": "GdcFk-6sRCJZ",
        "outputId": "129723ec-3b11-492c-dc73-a8e75030ca5a",
        "colab": {
          "base_uri": "https://localhost:8080/",
          "height": 282
        }
      },
      "source": [
        "sns.heatmap(cm_lda,annot=True)"
      ],
      "execution_count": null,
      "outputs": [
        {
          "output_type": "execute_result",
          "data": {
            "text/plain": [
              "<matplotlib.axes._subplots.AxesSubplot at 0x7f397f1ccda0>"
            ]
          },
          "metadata": {
            "tags": []
          },
          "execution_count": 200
        },
        {
          "output_type": "display_data",
          "data": {
            "image/png": "[encoded data removed]",
            "text/plain": [
              "<Figure size 432x288 with 2 Axes>"
            ]
          },
          "metadata": {
            "tags": [],
            "needs_background": "light"
          }
        }
      ]
    },
    {
      "cell_type": "code",
      "metadata": {
        "id": "MOczbiOiRLnW",
        "outputId": "b94f91aa-c291-4771-d36e-272dffece496",
        "colab": {
          "base_uri": "https://localhost:8080/",
          "height": 282
        }
      },
      "source": [
        "sns.heatmap(cm_log,annot=True)"
      ],
      "execution_count": null,
      "outputs": [
        {
          "output_type": "execute_result",
          "data": {
            "text/plain": [
              "<matplotlib.axes._subplots.AxesSubplot at 0x7f397f23ae80>"
            ]
          },
          "metadata": {
            "tags": []
          },
          "execution_count": 201
        },
        {
          "output_type": "display_data",
          "data": {
            "image/png": "[encoded data removed]",
            "text/plain": [
              "<Figure size 432x288 with 2 Axes>"
            ]
          },
          "metadata": {
            "tags": [],
            "needs_background": "light"
          }
        }
      ]
    },
    {
      "cell_type": "code",
      "metadata": {
        "id": "9aUMQuUZRQ2E",
        "outputId": "cd8f99e4-76f7-46b8-aae6-b7508abe7976",
        "colab": {
          "base_uri": "https://localhost:8080/",
          "height": 282
        }
      },
      "source": [
        "sns.heatmap(cm_rand,annot=True)"
      ],
      "execution_count": null,
      "outputs": [
        {
          "output_type": "execute_result",
          "data": {
            "text/plain": [
              "<matplotlib.axes._subplots.AxesSubplot at 0x7f397e5727b8>"
            ]
          },
          "metadata": {
            "tags": []
          },
          "execution_count": 202
        },
        {
          "output_type": "display_data",
          "data": {
            "image/png": "[encoded data removed]",
            "text/plain": [
              "<Figure size 432x288 with 2 Axes>"
            ]
          },
          "metadata": {
            "tags": [],
            "needs_background": "light"
          }
        }
      ]
    },
    {
      "cell_type": "code",
      "metadata": {
        "id": "ZRA6bJM_RW4D",
        "outputId": "a9b2973b-4384-4153-8516-4d51435508f0",
        "colab": {
          "base_uri": "https://localhost:8080/",
          "height": 309
        }
      },
      "source": [
        "#now let us merge our stock prices and news headlines to get effective analysis\n",
        "apple_stock=pd.read_csv('/content/drive/My Drive/GRIPfoundation/Stockmarket/appleshare.csv')\n",
        "from datetime import datetime\n",
        "for i in range(0,len(apple_stock)):\n",
        "  X=datetime.strptime(apple_stock['Date'][i], '%m/%d/%Y').strftime('%Y-%m-%d')\n",
        "  apple_stock['Date'][i]=X\n",
        "apple_stock.head()"
      ],
      "execution_count": 236,
      "outputs": [
        {
          "output_type": "stream",
          "text": [
            "/usr/local/lib/python3.6/dist-packages/ipykernel_launcher.py:6: SettingWithCopyWarning: \n",
            "A value is trying to be set on a copy of a slice from a DataFrame\n",
            "\n",
            "See the caveats in the documentation: https://pandas.pydata.org/pandas-docs/stable/user_guide/indexing.html#returning-a-view-versus-a-copy\n",
            "  \n"
          ],
          "name": "stderr"
        },
        {
          "output_type": "execute_result",
          "data": {
            "text/html": [
              "<div>\n",
              "<style scoped>\n",
              "    .dataframe tbody tr th:only-of-type {\n",
              "        vertical-align: middle;\n",
              "    }\n",
              "\n",
              "    .dataframe tbody tr th {\n",
              "        vertical-align: top;\n",
              "    }\n",
              "\n",
              "    .dataframe thead th {\n",
              "        text-align: right;\n",
              "    }\n",
              "</style>\n",
              "<table border=\"1\" class=\"dataframe\">\n",
              "  <thead>\n",
              "    <tr style=\"text-align: right;\">\n",
              "      <th></th>\n",
              "      <th>Date</th>\n",
              "      <th>Open</th>\n",
              "      <th>High</th>\n",
              "      <th>Low</th>\n",
              "      <th>Close</th>\n",
              "      <th>Adj Close</th>\n",
              "      <th>Volume</th>\n",
              "    </tr>\n",
              "  </thead>\n",
              "  <tbody>\n",
              "    <tr>\n",
              "      <th>0</th>\n",
              "      <td>2008-08-08</td>\n",
              "      <td>42.790001</td>\n",
              "      <td>44.169998</td>\n",
              "      <td>41.450001</td>\n",
              "      <td>44.099998</td>\n",
              "      <td>42.299274</td>\n",
              "      <td>3248400</td>\n",
              "    </tr>\n",
              "    <tr>\n",
              "      <th>1</th>\n",
              "      <td>2008-08-11</td>\n",
              "      <td>44.540001</td>\n",
              "      <td>44.570000</td>\n",
              "      <td>43.160000</td>\n",
              "      <td>43.720001</td>\n",
              "      <td>41.934803</td>\n",
              "      <td>2258300</td>\n",
              "    </tr>\n",
              "    <tr>\n",
              "      <th>2</th>\n",
              "      <td>2008-08-12</td>\n",
              "      <td>43.500000</td>\n",
              "      <td>44.070000</td>\n",
              "      <td>43.049999</td>\n",
              "      <td>43.759998</td>\n",
              "      <td>41.973156</td>\n",
              "      <td>1641400</td>\n",
              "    </tr>\n",
              "    <tr>\n",
              "      <th>3</th>\n",
              "      <td>2008-08-13</td>\n",
              "      <td>43.419998</td>\n",
              "      <td>43.650002</td>\n",
              "      <td>42.209999</td>\n",
              "      <td>43.450001</td>\n",
              "      <td>41.675819</td>\n",
              "      <td>1785400</td>\n",
              "    </tr>\n",
              "    <tr>\n",
              "      <th>4</th>\n",
              "      <td>2008-08-14</td>\n",
              "      <td>43.330002</td>\n",
              "      <td>45.000000</td>\n",
              "      <td>43.009998</td>\n",
              "      <td>44.240002</td>\n",
              "      <td>42.433556</td>\n",
              "      <td>1166600</td>\n",
              "    </tr>\n",
              "  </tbody>\n",
              "</table>\n",
              "</div>"
            ],
            "text/plain": [
              "         Date       Open       High        Low      Close  Adj Close   Volume\n",
              "0  2008-08-08  42.790001  44.169998  41.450001  44.099998  42.299274  3248400\n",
              "1  2008-08-11  44.540001  44.570000  43.160000  43.720001  41.934803  2258300\n",
              "2  2008-08-12  43.500000  44.070000  43.049999  43.759998  41.973156  1641400\n",
              "3  2008-08-13  43.419998  43.650002  42.209999  43.450001  41.675819  1785400\n",
              "4  2008-08-14  43.330002  45.000000  43.009998  44.240002  42.433556  1166600"
            ]
          },
          "metadata": {
            "tags": []
          },
          "execution_count": 236
        }
      ]
    },
    {
      "cell_type": "code",
      "metadata": {
        "id": "DAgeV59cU0AN"
      },
      "source": [
        "#now let us combine apple_stock and headlines on 'Date' \n",
        "headlines_apple=headlines.merge(apple_stock,how='inner',on='Date')"
      ],
      "execution_count": null,
      "outputs": []
    },
    {
      "cell_type": "code",
      "metadata": {
        "id": "iGyYyHkEVMDM",
        "outputId": "9b0e017f-e7c7-4e46-ce01-9db5f64a4135",
        "colab": {
          "base_uri": "https://localhost:8080/",
          "height": 136
        }
      },
      "source": [
        "headlines_apple.columns"
      ],
      "execution_count": 233,
      "outputs": [
        {
          "output_type": "execute_result",
          "data": {
            "text/plain": [
              "Index(['Date', 'Label', 'Top1', 'Top2', 'Top3', 'Top4', 'Top5', 'Top6', 'Top7',\n",
              "       'Top8', 'Top9', 'Top10', 'Top11', 'Top12', 'Top13', 'Top14', 'Top15',\n",
              "       'Top16', 'Top17', 'Top18', 'Top19', 'Top20', 'Top21', 'Top22', 'Top23',\n",
              "       'Top24', 'Top25', 'combined_features', 'Open', 'High', 'Low', 'Close',\n",
              "       'Adj Close', 'Volume', 'polarity', 'subjectivity', 'negativity',\n",
              "       'positivity', 'neutrality'],\n",
              "      dtype='object')"
            ]
          },
          "metadata": {
            "tags": []
          },
          "execution_count": 233
        }
      ]
    },
    {
      "cell_type": "code",
      "metadata": {
        "id": "SnUv-fjoVN0F",
        "outputId": "be5ba32c-0722-40ba-8c11-fcccd591d8c8",
        "colab": {
          "base_uri": "https://localhost:8080/",
          "height": 297
        }
      },
      "source": [
        "headlines_apple.describe()"
      ],
      "execution_count": null,
      "outputs": [
        {
          "output_type": "execute_result",
          "data": {
            "text/html": [
              "<div>\n",
              "<style scoped>\n",
              "    .dataframe tbody tr th:only-of-type {\n",
              "        vertical-align: middle;\n",
              "    }\n",
              "\n",
              "    .dataframe tbody tr th {\n",
              "        vertical-align: top;\n",
              "    }\n",
              "\n",
              "    .dataframe thead th {\n",
              "        text-align: right;\n",
              "    }\n",
              "</style>\n",
              "<table border=\"1\" class=\"dataframe\">\n",
              "  <thead>\n",
              "    <tr style=\"text-align: right;\">\n",
              "      <th></th>\n",
              "      <th>Label</th>\n",
              "      <th>Open</th>\n",
              "      <th>High</th>\n",
              "      <th>Low</th>\n",
              "      <th>Close</th>\n",
              "      <th>Adj Close</th>\n",
              "      <th>Volume</th>\n",
              "    </tr>\n",
              "  </thead>\n",
              "  <tbody>\n",
              "    <tr>\n",
              "      <th>count</th>\n",
              "      <td>1989.000000</td>\n",
              "      <td>1989.000000</td>\n",
              "      <td>1989.000000</td>\n",
              "      <td>1989.000000</td>\n",
              "      <td>1989.000000</td>\n",
              "      <td>1989.000000</td>\n",
              "      <td>1.989000e+03</td>\n",
              "    </tr>\n",
              "    <tr>\n",
              "      <th>mean</th>\n",
              "      <td>0.535445</td>\n",
              "      <td>88.654585</td>\n",
              "      <td>89.640151</td>\n",
              "      <td>87.699879</td>\n",
              "      <td>88.702363</td>\n",
              "      <td>86.883184</td>\n",
              "      <td>1.179127e+06</td>\n",
              "    </tr>\n",
              "    <tr>\n",
              "      <th>std</th>\n",
              "      <td>0.498867</td>\n",
              "      <td>44.803831</td>\n",
              "      <td>45.202272</td>\n",
              "      <td>44.395081</td>\n",
              "      <td>44.815595</td>\n",
              "      <td>44.415575</td>\n",
              "      <td>8.871917e+05</td>\n",
              "    </tr>\n",
              "    <tr>\n",
              "      <th>min</th>\n",
              "      <td>0.000000</td>\n",
              "      <td>25.000000</td>\n",
              "      <td>26.219999</td>\n",
              "      <td>24.030001</td>\n",
              "      <td>24.170000</td>\n",
              "      <td>23.218027</td>\n",
              "      <td>1.307000e+05</td>\n",
              "    </tr>\n",
              "    <tr>\n",
              "      <th>25%</th>\n",
              "      <td>0.000000</td>\n",
              "      <td>52.759998</td>\n",
              "      <td>53.419998</td>\n",
              "      <td>52.270000</td>\n",
              "      <td>53.000000</td>\n",
              "      <td>51.492523</td>\n",
              "      <td>6.680000e+05</td>\n",
              "    </tr>\n",
              "    <tr>\n",
              "      <th>50%</th>\n",
              "      <td>1.000000</td>\n",
              "      <td>72.849998</td>\n",
              "      <td>73.559998</td>\n",
              "      <td>72.070000</td>\n",
              "      <td>72.830002</td>\n",
              "      <td>71.241982</td>\n",
              "      <td>9.529000e+05</td>\n",
              "    </tr>\n",
              "    <tr>\n",
              "      <th>75%</th>\n",
              "      <td>1.000000</td>\n",
              "      <td>128.309998</td>\n",
              "      <td>129.990005</td>\n",
              "      <td>127.129997</td>\n",
              "      <td>128.410004</td>\n",
              "      <td>126.171173</td>\n",
              "      <td>1.389400e+06</td>\n",
              "    </tr>\n",
              "    <tr>\n",
              "      <th>max</th>\n",
              "      <td>1.000000</td>\n",
              "      <td>201.240005</td>\n",
              "      <td>201.240005</td>\n",
              "      <td>198.160004</td>\n",
              "      <td>200.380005</td>\n",
              "      <td>197.362900</td>\n",
              "      <td>1.431240e+07</td>\n",
              "    </tr>\n",
              "  </tbody>\n",
              "</table>\n",
              "</div>"
            ],
            "text/plain": [
              "             Label         Open  ...    Adj Close        Volume\n",
              "count  1989.000000  1989.000000  ...  1989.000000  1.989000e+03\n",
              "mean      0.535445    88.654585  ...    86.883184  1.179127e+06\n",
              "std       0.498867    44.803831  ...    44.415575  8.871917e+05\n",
              "min       0.000000    25.000000  ...    23.218027  1.307000e+05\n",
              "25%       0.000000    52.759998  ...    51.492523  6.680000e+05\n",
              "50%       1.000000    72.849998  ...    71.241982  9.529000e+05\n",
              "75%       1.000000   128.309998  ...   126.171173  1.389400e+06\n",
              "max       1.000000   201.240005  ...   197.362900  1.431240e+07\n",
              "\n",
              "[8 rows x 7 columns]"
            ]
          },
          "metadata": {
            "tags": []
          },
          "execution_count": 206
        }
      ]
    },
    {
      "cell_type": "code",
      "metadata": {
        "id": "ccFyazluVqSX"
      },
      "source": [
        "#find the polarity and subjectivity of the combined features\n",
        "polarity=[]\n",
        "subjectivity=[]\n",
        "negativity=[]\n",
        "positivity=[]\n",
        "neutrality=[]\n",
        "for i in range(0,len(headlines_apple.index)):\n",
        "  polarity.append(TextBlob(headlines_apple['combined_features'][i]).sentiment.polarity)\n",
        "  subjectivity.append(TextBlob(headlines_apple['combined_features'][i]).sentiment.subjectivity)\n",
        "  negativity.append(sid.polarity_scores(headlines_apple['combined_features'][i])['neg'])\n",
        "  positivity.append(sid.polarity_scores(headlines_apple['combined_features'][i])['pos'])\n",
        "  neutrality.append(sid.polarity_scores(headlines_apple['combined_features'][i])['neu'])"
      ],
      "execution_count": null,
      "outputs": []
    },
    {
      "cell_type": "code",
      "metadata": {
        "id": "IGcMssMdWY4L"
      },
      "source": [
        "headlines_apple['polarity']=polarity\n",
        "headlines_apple['subjectivity']=subjectivity\n",
        "headlines_apple['negativity']=negativity\n",
        "headlines_apple['positivity']=positivity\n",
        "headlines_apple['neutrality']=neutrality"
      ],
      "execution_count": null,
      "outputs": []
    },
    {
      "cell_type": "code",
      "metadata": {
        "id": "nx1pHtRHWk0p",
        "outputId": "efabd1a2-56d9-47fa-b0e8-fe783393a36b",
        "colab": {
          "base_uri": "https://localhost:8080/",
          "height": 136
        }
      },
      "source": [
        "headlines_apple.columns"
      ],
      "execution_count": 234,
      "outputs": [
        {
          "output_type": "execute_result",
          "data": {
            "text/plain": [
              "Index(['Date', 'Label', 'Top1', 'Top2', 'Top3', 'Top4', 'Top5', 'Top6', 'Top7',\n",
              "       'Top8', 'Top9', 'Top10', 'Top11', 'Top12', 'Top13', 'Top14', 'Top15',\n",
              "       'Top16', 'Top17', 'Top18', 'Top19', 'Top20', 'Top21', 'Top22', 'Top23',\n",
              "       'Top24', 'Top25', 'combined_features', 'Open', 'High', 'Low', 'Close',\n",
              "       'Adj Close', 'Volume', 'polarity', 'subjectivity', 'negativity',\n",
              "       'positivity', 'neutrality'],\n",
              "      dtype='object')"
            ]
          },
          "metadata": {
            "tags": []
          },
          "execution_count": 234
        }
      ]
    },
    {
      "cell_type": "code",
      "metadata": {
        "id": "ARf_0MTJWqIb"
      },
      "source": [
        "X_merge=headlines_apple[['Open','High','Low','Volume','polarity','subjectivity','negativity','positivity','neutrality']]\n",
        "y_merge=headlines_apple[['Label']]"
      ],
      "execution_count": null,
      "outputs": []
    },
    {
      "cell_type": "code",
      "metadata": {
        "id": "cFHeOGsoW5_x",
        "outputId": "8bce23b5-3354-4177-a718-091301201633",
        "colab": {
          "base_uri": "https://localhost:8080/",
          "height": 419
        }
      },
      "source": [
        "X_merge"
      ],
      "execution_count": null,
      "outputs": [
        {
          "output_type": "execute_result",
          "data": {
            "text/html": [
              "<div>\n",
              "<style scoped>\n",
              "    .dataframe tbody tr th:only-of-type {\n",
              "        vertical-align: middle;\n",
              "    }\n",
              "\n",
              "    .dataframe tbody tr th {\n",
              "        vertical-align: top;\n",
              "    }\n",
              "\n",
              "    .dataframe thead th {\n",
              "        text-align: right;\n",
              "    }\n",
              "</style>\n",
              "<table border=\"1\" class=\"dataframe\">\n",
              "  <thead>\n",
              "    <tr style=\"text-align: right;\">\n",
              "      <th></th>\n",
              "      <th>Open</th>\n",
              "      <th>High</th>\n",
              "      <th>Low</th>\n",
              "      <th>Volume</th>\n",
              "      <th>polarity</th>\n",
              "      <th>subjectivity</th>\n",
              "      <th>negativity</th>\n",
              "      <th>positivity</th>\n",
              "      <th>neutrality</th>\n",
              "    </tr>\n",
              "  </thead>\n",
              "  <tbody>\n",
              "    <tr>\n",
              "      <th>0</th>\n",
              "      <td>42.790001</td>\n",
              "      <td>44.169998</td>\n",
              "      <td>41.450001</td>\n",
              "      <td>3248400</td>\n",
              "      <td>-0.048568</td>\n",
              "      <td>0.267549</td>\n",
              "      <td>0.234</td>\n",
              "      <td>0.057</td>\n",
              "      <td>0.708</td>\n",
              "    </tr>\n",
              "    <tr>\n",
              "      <th>1</th>\n",
              "      <td>44.540001</td>\n",
              "      <td>44.570000</td>\n",
              "      <td>43.160000</td>\n",
              "      <td>2258300</td>\n",
              "      <td>0.109325</td>\n",
              "      <td>0.374806</td>\n",
              "      <td>0.187</td>\n",
              "      <td>0.101</td>\n",
              "      <td>0.712</td>\n",
              "    </tr>\n",
              "    <tr>\n",
              "      <th>2</th>\n",
              "      <td>43.500000</td>\n",
              "      <td>44.070000</td>\n",
              "      <td>43.049999</td>\n",
              "      <td>1641400</td>\n",
              "      <td>-0.033202</td>\n",
              "      <td>0.510370</td>\n",
              "      <td>0.135</td>\n",
              "      <td>0.052</td>\n",
              "      <td>0.813</td>\n",
              "    </tr>\n",
              "    <tr>\n",
              "      <th>3</th>\n",
              "      <td>43.419998</td>\n",
              "      <td>43.650002</td>\n",
              "      <td>42.209999</td>\n",
              "      <td>1785400</td>\n",
              "      <td>0.005842</td>\n",
              "      <td>0.364021</td>\n",
              "      <td>0.156</td>\n",
              "      <td>0.068</td>\n",
              "      <td>0.776</td>\n",
              "    </tr>\n",
              "    <tr>\n",
              "      <th>4</th>\n",
              "      <td>43.330002</td>\n",
              "      <td>45.000000</td>\n",
              "      <td>43.009998</td>\n",
              "      <td>1166600</td>\n",
              "      <td>0.049050</td>\n",
              "      <td>0.390095</td>\n",
              "      <td>0.201</td>\n",
              "      <td>0.101</td>\n",
              "      <td>0.698</td>\n",
              "    </tr>\n",
              "    <tr>\n",
              "      <th>...</th>\n",
              "      <td>...</td>\n",
              "      <td>...</td>\n",
              "      <td>...</td>\n",
              "      <td>...</td>\n",
              "      <td>...</td>\n",
              "      <td>...</td>\n",
              "      <td>...</td>\n",
              "      <td>...</td>\n",
              "      <td>...</td>\n",
              "    </tr>\n",
              "    <tr>\n",
              "      <th>1984</th>\n",
              "      <td>153.740005</td>\n",
              "      <td>155.699997</td>\n",
              "      <td>152.199997</td>\n",
              "      <td>2242500</td>\n",
              "      <td>-0.014015</td>\n",
              "      <td>0.352311</td>\n",
              "      <td>0.165</td>\n",
              "      <td>0.089</td>\n",
              "      <td>0.746</td>\n",
              "    </tr>\n",
              "    <tr>\n",
              "      <th>1985</th>\n",
              "      <td>154.869995</td>\n",
              "      <td>157.160004</td>\n",
              "      <td>154.279999</td>\n",
              "      <td>1533700</td>\n",
              "      <td>0.047722</td>\n",
              "      <td>0.349330</td>\n",
              "      <td>0.136</td>\n",
              "      <td>0.105</td>\n",
              "      <td>0.758</td>\n",
              "    </tr>\n",
              "    <tr>\n",
              "      <th>1986</th>\n",
              "      <td>158.029999</td>\n",
              "      <td>161.779999</td>\n",
              "      <td>158.029999</td>\n",
              "      <td>1560000</td>\n",
              "      <td>0.075882</td>\n",
              "      <td>0.417835</td>\n",
              "      <td>0.237</td>\n",
              "      <td>0.112</td>\n",
              "      <td>0.651</td>\n",
              "    </tr>\n",
              "    <tr>\n",
              "      <th>1987</th>\n",
              "      <td>161.020004</td>\n",
              "      <td>161.699997</td>\n",
              "      <td>159.500000</td>\n",
              "      <td>791600</td>\n",
              "      <td>0.011243</td>\n",
              "      <td>0.382566</td>\n",
              "      <td>0.213</td>\n",
              "      <td>0.063</td>\n",
              "      <td>0.725</td>\n",
              "    </tr>\n",
              "    <tr>\n",
              "      <th>1988</th>\n",
              "      <td>162.160004</td>\n",
              "      <td>164.699997</td>\n",
              "      <td>161.779999</td>\n",
              "      <td>876500</td>\n",
              "      <td>-0.015893</td>\n",
              "      <td>0.308323</td>\n",
              "      <td>0.220</td>\n",
              "      <td>0.061</td>\n",
              "      <td>0.719</td>\n",
              "    </tr>\n",
              "  </tbody>\n",
              "</table>\n",
              "<p>1989 rows × 9 columns</p>\n",
              "</div>"
            ],
            "text/plain": [
              "            Open        High         Low  ...  negativity  positivity  neutrality\n",
              "0      42.790001   44.169998   41.450001  ...       0.234       0.057       0.708\n",
              "1      44.540001   44.570000   43.160000  ...       0.187       0.101       0.712\n",
              "2      43.500000   44.070000   43.049999  ...       0.135       0.052       0.813\n",
              "3      43.419998   43.650002   42.209999  ...       0.156       0.068       0.776\n",
              "4      43.330002   45.000000   43.009998  ...       0.201       0.101       0.698\n",
              "...          ...         ...         ...  ...         ...         ...         ...\n",
              "1984  153.740005  155.699997  152.199997  ...       0.165       0.089       0.746\n",
              "1985  154.869995  157.160004  154.279999  ...       0.136       0.105       0.758\n",
              "1986  158.029999  161.779999  158.029999  ...       0.237       0.112       0.651\n",
              "1987  161.020004  161.699997  159.500000  ...       0.213       0.063       0.725\n",
              "1988  162.160004  164.699997  161.779999  ...       0.220       0.061       0.719\n",
              "\n",
              "[1989 rows x 9 columns]"
            ]
          },
          "metadata": {
            "tags": []
          },
          "execution_count": 212
        }
      ]
    },
    {
      "cell_type": "code",
      "metadata": {
        "id": "47pB6NwvW_y5",
        "outputId": "d6b5ce8b-c0c7-4115-8a18-fafffba75cdc",
        "colab": {
          "base_uri": "https://localhost:8080/",
          "height": 419
        }
      },
      "source": [
        "y_merge"
      ],
      "execution_count": null,
      "outputs": [
        {
          "output_type": "execute_result",
          "data": {
            "text/html": [
              "<div>\n",
              "<style scoped>\n",
              "    .dataframe tbody tr th:only-of-type {\n",
              "        vertical-align: middle;\n",
              "    }\n",
              "\n",
              "    .dataframe tbody tr th {\n",
              "        vertical-align: top;\n",
              "    }\n",
              "\n",
              "    .dataframe thead th {\n",
              "        text-align: right;\n",
              "    }\n",
              "</style>\n",
              "<table border=\"1\" class=\"dataframe\">\n",
              "  <thead>\n",
              "    <tr style=\"text-align: right;\">\n",
              "      <th></th>\n",
              "      <th>Label</th>\n",
              "    </tr>\n",
              "  </thead>\n",
              "  <tbody>\n",
              "    <tr>\n",
              "      <th>0</th>\n",
              "      <td>0</td>\n",
              "    </tr>\n",
              "    <tr>\n",
              "      <th>1</th>\n",
              "      <td>1</td>\n",
              "    </tr>\n",
              "    <tr>\n",
              "      <th>2</th>\n",
              "      <td>0</td>\n",
              "    </tr>\n",
              "    <tr>\n",
              "      <th>3</th>\n",
              "      <td>0</td>\n",
              "    </tr>\n",
              "    <tr>\n",
              "      <th>4</th>\n",
              "      <td>1</td>\n",
              "    </tr>\n",
              "    <tr>\n",
              "      <th>...</th>\n",
              "      <td>...</td>\n",
              "    </tr>\n",
              "    <tr>\n",
              "      <th>1984</th>\n",
              "      <td>0</td>\n",
              "    </tr>\n",
              "    <tr>\n",
              "      <th>1985</th>\n",
              "      <td>1</td>\n",
              "    </tr>\n",
              "    <tr>\n",
              "      <th>1986</th>\n",
              "      <td>1</td>\n",
              "    </tr>\n",
              "    <tr>\n",
              "      <th>1987</th>\n",
              "      <td>1</td>\n",
              "    </tr>\n",
              "    <tr>\n",
              "      <th>1988</th>\n",
              "      <td>1</td>\n",
              "    </tr>\n",
              "  </tbody>\n",
              "</table>\n",
              "<p>1989 rows × 1 columns</p>\n",
              "</div>"
            ],
            "text/plain": [
              "      Label\n",
              "0         0\n",
              "1         1\n",
              "2         0\n",
              "3         0\n",
              "4         1\n",
              "...     ...\n",
              "1984      0\n",
              "1985      1\n",
              "1986      1\n",
              "1987      1\n",
              "1988      1\n",
              "\n",
              "[1989 rows x 1 columns]"
            ]
          },
          "metadata": {
            "tags": []
          },
          "execution_count": 213
        }
      ]
    },
    {
      "cell_type": "code",
      "metadata": {
        "id": "QrE-81KcXBKf"
      },
      "source": [
        "X_merge_train,X_merge_test,y_merge_train,y_merge_test=train_test_split(X_merge,y_merge,test_size=0.3,random_state=0)"
      ],
      "execution_count": null,
      "outputs": []
    },
    {
      "cell_type": "code",
      "metadata": {
        "id": "uIm5WrzvXMeU",
        "outputId": "89ec6c8c-a065-40c5-88dd-0ea7d8efa2e9",
        "colab": {
          "base_uri": "https://localhost:8080/",
          "height": 506
        }
      },
      "source": [
        "from sklearn import svm\n",
        "svmclf_merge=svm.SVC(kernel='rbf',degree=5,class_weight='balanced')\n",
        "svmclf_merge.fit(X_merge_train,y_merge_train) \n",
        "y_pred_svm=svmclf_merge.predict(X_merge_test)\n",
        "print(confusion_matrix(y_merge_test,y_pred_svm))\n",
        "print(accuracy_score(y_merge_test,y_pred_svm))\n",
        "print(classification_report(y_merge_test,y_pred_svm))\n",
        "print(sns.heatmap(confusion_matrix(y_merge_test,y_pred_svm),annot=True))"
      ],
      "execution_count": null,
      "outputs": [
        {
          "output_type": "stream",
          "text": [
            "/usr/local/lib/python3.6/dist-packages/sklearn/utils/validation.py:760: DataConversionWarning: A column-vector y was passed when a 1d array was expected. Please change the shape of y to (n_samples, ), for example using ravel().\n",
            "  y = column_or_1d(y, warn=True)\n"
          ],
          "name": "stderr"
        },
        {
          "output_type": "stream",
          "text": [
            "[[ 43 238]\n",
            " [ 37 279]]\n",
            "0.5393634840871022\n",
            "              precision    recall  f1-score   support\n",
            "\n",
            "           0       0.54      0.15      0.24       281\n",
            "           1       0.54      0.88      0.67       316\n",
            "\n",
            "    accuracy                           0.54       597\n",
            "   macro avg       0.54      0.52      0.45       597\n",
            "weighted avg       0.54      0.54      0.47       597\n",
            "\n",
            "AxesSubplot(0.125,0.125;0.62x0.755)\n"
          ],
          "name": "stdout"
        },
        {
          "output_type": "display_data",
          "data": {
            "image/png": "[encoded data removed]",
            "text/plain": [
              "<Figure size 432x288 with 2 Axes>"
            ]
          },
          "metadata": {
            "tags": [],
            "needs_background": "light"
          }
        }
      ]
    },
    {
      "cell_type": "code",
      "metadata": {
        "id": "I2681JjbYW-1",
        "outputId": "10ff3ac4-4602-45d5-ab60-d304f56e0c95",
        "colab": {
          "base_uri": "https://localhost:8080/",
          "height": 486
        }
      },
      "source": [
        "decclf_merge = DecisionTreeClassifier(random_state=0)\n",
        "decclf_merge.fit(X_merge_train,y_merge_train)\n",
        "y_pred_dec=decclf_merge.predict(X_merge_test)\n",
        "print(confusion_matrix(y_merge_test,y_pred_dec))\n",
        "print(accuracy_score(y_merge_test,y_pred_dec))\n",
        "print(classification_report(y_merge_test,y_pred_dec))\n",
        "print(sns.heatmap(confusion_matrix(y_merge_test,y_pred_dec),annot=True))"
      ],
      "execution_count": 229,
      "outputs": [
        {
          "output_type": "stream",
          "text": [
            "[[127 154]\n",
            " [149 167]]\n",
            "0.49246231155778897\n",
            "              precision    recall  f1-score   support\n",
            "\n",
            "           0       0.46      0.45      0.46       281\n",
            "           1       0.52      0.53      0.52       316\n",
            "\n",
            "    accuracy                           0.49       597\n",
            "   macro avg       0.49      0.49      0.49       597\n",
            "weighted avg       0.49      0.49      0.49       597\n",
            "\n",
            "AxesSubplot(0.125,0.125;0.62x0.755)\n"
          ],
          "name": "stdout"
        },
        {
          "output_type": "display_data",
          "data": {
            "image/png": "[encoded data removed]",
            "text/plain": [
              "<Figure size 432x288 with 2 Axes>"
            ]
          },
          "metadata": {
            "tags": [],
            "needs_background": "light"
          }
        }
      ]
    },
    {
      "cell_type": "code",
      "metadata": {
        "id": "sdIs0BfCaAOb",
        "outputId": "acba3d94-d260-4cba-8115-d928e8cea910",
        "colab": {
          "base_uri": "https://localhost:8080/",
          "height": 542
        }
      },
      "source": [
        "from sklearn.discriminant_analysis import LinearDiscriminantAnalysis\n",
        "clf_lda = LinearDiscriminantAnalysis()\n",
        "clf_lda.fit(X_merge_train, y_merge_train)\n",
        "y_pred_lda=clf_lda.predict(X_merge_test)\n",
        "print(confusion_matrix(y_merge_test,y_pred_lda))\n",
        "print(accuracy_score(y_merge_test,y_pred_lda))\n",
        "print(classification_report(y_merge_test,y_pred_lda))\n",
        "print(sns.heatmap(confusion_matrix(y_merge_test,y_pred_lda),annot=True))"
      ],
      "execution_count": 230,
      "outputs": [
        {
          "output_type": "stream",
          "text": [
            "/usr/local/lib/python3.6/dist-packages/sklearn/utils/validation.py:760: DataConversionWarning: A column-vector y was passed when a 1d array was expected. Please change the shape of y to (n_samples, ), for example using ravel().\n",
            "  y = column_or_1d(y, warn=True)\n"
          ],
          "name": "stderr"
        },
        {
          "output_type": "stream",
          "text": [
            "[[ 81 200]\n",
            " [ 64 252]]\n",
            "0.5577889447236181\n",
            "              precision    recall  f1-score   support\n",
            "\n",
            "           0       0.56      0.29      0.38       281\n",
            "           1       0.56      0.80      0.66       316\n",
            "\n",
            "    accuracy                           0.56       597\n",
            "   macro avg       0.56      0.54      0.52       597\n",
            "weighted avg       0.56      0.56      0.53       597\n",
            "\n",
            "AxesSubplot(0.125,0.125;0.62x0.755)\n"
          ],
          "name": "stdout"
        },
        {
          "output_type": "display_data",
          "data": {
            "image/png": "[encoded data removed]",
            "text/plain": [
              "<Figure size 432x288 with 2 Axes>"
            ]
          },
          "metadata": {
            "tags": [],
            "needs_background": "light"
          }
        }
      ]
    },
    {
      "cell_type": "code",
      "metadata": {
        "id": "FODndUUvaZqs",
        "outputId": "f7283856-f6e2-4b7c-f479-80196c109339",
        "colab": {
          "base_uri": "https://localhost:8080/",
          "height": 574
        }
      },
      "source": [
        "from sklearn.linear_model import LogisticRegression\n",
        "log=LogisticRegression()\n",
        "log.fit(X_merge_train,y_merge_train)\n",
        "y_pred_log=log.predict(X_merge_test)\n",
        "print(confusion_matrix(y_merge_test,y_pred_log))\n",
        "print(accuracy_score(y_merge_test,y_pred_log))\n",
        "print(classification_report(y_merge_test,y_pred_log))\n",
        "print(sns.heatmap(confusion_matrix(y_merge_test,y_pred_log),annot=True))"
      ],
      "execution_count": 231,
      "outputs": [
        {
          "output_type": "stream",
          "text": [
            "/usr/local/lib/python3.6/dist-packages/sklearn/utils/validation.py:760: DataConversionWarning: A column-vector y was passed when a 1d array was expected. Please change the shape of y to (n_samples, ), for example using ravel().\n",
            "  y = column_or_1d(y, warn=True)\n",
            "/usr/local/lib/python3.6/dist-packages/sklearn/metrics/_classification.py:1272: UndefinedMetricWarning: Precision and F-score are ill-defined and being set to 0.0 in labels with no predicted samples. Use `zero_division` parameter to control this behavior.\n",
            "  _warn_prf(average, modifier, msg_start, len(result))\n"
          ],
          "name": "stderr"
        },
        {
          "output_type": "stream",
          "text": [
            "[[  0 281]\n",
            " [  0 316]]\n",
            "0.5293132328308208\n",
            "              precision    recall  f1-score   support\n",
            "\n",
            "           0       0.00      0.00      0.00       281\n",
            "           1       0.53      1.00      0.69       316\n",
            "\n",
            "    accuracy                           0.53       597\n",
            "   macro avg       0.26      0.50      0.35       597\n",
            "weighted avg       0.28      0.53      0.37       597\n",
            "\n",
            "AxesSubplot(0.125,0.125;0.62x0.755)\n"
          ],
          "name": "stdout"
        },
        {
          "output_type": "display_data",
          "data": {
            "image/png": "[encoded data removed]",
            "text/plain": [
              "<Figure size 432x288 with 2 Axes>"
            ]
          },
          "metadata": {
            "tags": [],
            "needs_background": "light"
          }
        }
      ]
    },
    {
      "cell_type": "code",
      "metadata": {
        "id": "xjQgBlcha3Ro",
        "outputId": "49083b5d-288f-4587-ad28-517eeeb14734",
        "colab": {
          "base_uri": "https://localhost:8080/",
          "height": 540
        }
      },
      "source": [
        "clf_rand = RandomForestClassifier(max_depth=2, random_state=0)\n",
        "clf_rand.fit(X_merge_train, y_merge_train)\n",
        "y_pred_rand=clf_rand.predict(X_merge_test)\n",
        "print(confusion_matrix(y_merge_test,y_pred_rand))\n",
        "print(accuracy_score(y_merge_test,y_pred_rand))\n",
        "print(classification_report(y_merge_test,y_pred_rand))\n",
        "print(sns.heatmap(confusion_matrix(y_merge_test,y_pred_rand),annot=True))"
      ],
      "execution_count": 232,
      "outputs": [
        {
          "output_type": "stream",
          "text": [
            "/usr/local/lib/python3.6/dist-packages/ipykernel_launcher.py:2: DataConversionWarning: A column-vector y was passed when a 1d array was expected. Please change the shape of y to (n_samples,), for example using ravel().\n",
            "  \n"
          ],
          "name": "stderr"
        },
        {
          "output_type": "stream",
          "text": [
            "[[ 28 253]\n",
            " [ 31 285]]\n",
            "0.52428810720268\n",
            "              precision    recall  f1-score   support\n",
            "\n",
            "           0       0.47      0.10      0.16       281\n",
            "           1       0.53      0.90      0.67       316\n",
            "\n",
            "    accuracy                           0.52       597\n",
            "   macro avg       0.50      0.50      0.42       597\n",
            "weighted avg       0.50      0.52      0.43       597\n",
            "\n",
            "AxesSubplot(0.125,0.125;0.62x0.755)\n"
          ],
          "name": "stdout"
        },
        {
          "output_type": "display_data",
          "data": {
            "image/png": "[encoded data removed]",
            "text/plain": [
              "<Figure size 432x288 with 2 Axes>"
            ]
          },
          "metadata": {
            "tags": [],
            "needs_background": "light"
          }
        }
      ]
    },
    {
      "cell_type": "code",
      "metadata": {
        "id": "2CJP4m60bxM4"
      },
      "source": [
        ""
      ],
      "execution_count": null,
      "outputs": []
    }
  ]
}